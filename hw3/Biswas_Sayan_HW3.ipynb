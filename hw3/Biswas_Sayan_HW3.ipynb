{
 "cells": [
  {
   "cell_type": "code",
   "execution_count": 1,
   "metadata": {},
   "outputs": [],
   "source": [
    "import pandas as pd\n",
    "import numpy as np\n",
    "import matplotlib.pyplot as plt\n",
    "from sklearn import preprocessing\n",
    "from sklearn import metrics\n",
    "from sklearn.model_selection import train_test_split\n",
    "from sklearn.linear_model import LogisticRegression\n",
    "from sklearn.metrics import confusion_matrix\n",
    "from sklearn.metrics import classification_report\n",
    "from sklearn.discriminant_analysis import LinearDiscriminantAnalysis\n",
    "from sklearn.naive_bayes import GaussianNB\n",
    "from sklearn.tree import DecisionTreeClassifier\n",
    "from sklearn.metrics import roc_curve, auc\n",
    "import warnings\n"
   ]
  },
  {
   "cell_type": "code",
   "execution_count": 2,
   "metadata": {},
   "outputs": [],
   "source": [
    "# f = open(\"spambase.names\", 'r')\n",
    "# count = 0\n",
    "# column_names = []\n",
    "# for line in f:\n",
    "#     count = count+1\n",
    "#     if count >=34:\n",
    "#         temp = line.split(\":\")\n",
    "#         column_names.append(temp[0])\n",
    "# print(len(column_names))  "
   ]
  },
  {
   "cell_type": "markdown",
   "metadata": {},
   "source": [
    "# Problem 1"
   ]
  },
  {
   "cell_type": "markdown",
   "metadata": {},
   "source": [
    "## 1a"
   ]
  },
  {
   "cell_type": "code",
   "execution_count": 3,
   "metadata": {},
   "outputs": [],
   "source": [
    "column_names = ['word_freq_make', 'word_freq_address', 'word_freq_all', 'word_freq_3d', 'word_freq_our', 'word_freq_over', 'word_freq_remove',\n",
    " 'word_freq_internet', 'word_freq_order', 'word_freq_mail', 'word_freq_receive', 'word_freq_will', 'word_freq_people', \n",
    " 'word_freq_report', 'word_freq_addresses', 'word_freq_free', 'word_freq_business', 'word_freq_email', 'word_freq_you', \n",
    " 'word_freq_credit', 'word_freq_your', 'word_freq_font', 'word_freq_000', 'word_freq_money', 'word_freq_hp', 'word_freq_hpl', \n",
    " 'word_freq_george', 'word_freq_650', 'word_freq_lab', 'word_freq_labs', 'word_freq_telnet', 'word_freq_857', 'word_freq_data', \n",
    " 'word_freq_415', 'word_freq_85', 'word_freq_technology', 'word_freq_1999', 'word_freq_parts', 'word_freq_pm', 'word_freq_direct', \n",
    " 'word_freq_cs', 'word_freq_meeting', 'word_freq_original', 'word_freq_project', 'word_freq_re', 'word_freq_edu', 'word_freq_table',\n",
    " 'word_freq_conference', 'char_freq_;', 'char_freq_(', 'char_freq_[', 'char_freq_!', 'char_freq_$', 'char_freq_#', 'capital_run_length_average', \n",
    " 'capital_run_length_longest', 'capital_run_length_total', 'class']\n",
    "org_data = pd.read_csv(\"spambase.data\",names = column_names)\n",
    "#org_data.iloc[:,0:-1]\n",
    "#org_data"
   ]
  },
  {
   "cell_type": "code",
   "execution_count": 4,
   "metadata": {},
   "outputs": [],
   "source": [
    "X = org_data.iloc[:,0:-1]\n",
    "y = org_data[['class']]"
   ]
  },
  {
   "cell_type": "code",
   "execution_count": 5,
   "metadata": {},
   "outputs": [],
   "source": [
    "# splitting the data\n",
    "X_train, X_test, y_train, y_test = train_test_split(X, y, test_size = 0.25, stratify=y, random_state = 57)"
   ]
  },
  {
   "cell_type": "code",
   "execution_count": 6,
   "metadata": {},
   "outputs": [],
   "source": [
    "# preprocessing\n",
    "ss_scaler = preprocessing.StandardScaler()\n",
    "X_train = pd.DataFrame(ss_scaler.fit_transform(X_train),columns=X_train.columns)\n",
    "X_test = pd.DataFrame(ss_scaler.transform(X_test),columns = X_test.columns)\n",
    "y_train = np.ravel(y_train)"
   ]
  },
  {
   "cell_type": "code",
   "execution_count": 7,
   "metadata": {},
   "outputs": [],
   "source": [
    "# check of the proportion of the class after splitting\n",
    "\n",
    "# y_train.sum(axis = 0, skipna = True)[0]/y_train.shape[0]\n",
    "# y_test.sum(axis = 0, skipna = True)[0]/y_test.shape[0] "
   ]
  },
  {
   "cell_type": "code",
   "execution_count": 8,
   "metadata": {},
   "outputs": [],
   "source": [
    "warnings.filterwarnings(\"ignore\", category=FutureWarning)\n",
    "log_reg = LogisticRegression()\n",
    "log_reg.fit(X_train, y_train)\n",
    "y_pred = log_reg.predict(X_test)\n"
   ]
  },
  {
   "cell_type": "code",
   "execution_count": 9,
   "metadata": {},
   "outputs": [
    {
     "name": "stdout",
     "output_type": "stream",
     "text": [
      "[[667  30]\n",
      " [ 42 412]]\n"
     ]
    }
   ],
   "source": [
    "# 1. Confusion matrix\n",
    "conf_mat = confusion_matrix(y_test, y_pred)\n",
    "print(conf_mat)"
   ]
  },
  {
   "cell_type": "code",
   "execution_count": 10,
   "metadata": {},
   "outputs": [
    {
     "name": "stdout",
     "output_type": "stream",
     "text": [
      "True Positives: 412 , False Positives:  30 , True Negatives:  667 , False Negatives:  42\n"
     ]
    }
   ],
   "source": [
    "# 2. True Positives, False Positives, True Negatives, False Negatives\n",
    "true_negatives = conf_mat[0][0]\n",
    "false_negatives = conf_mat[1][0]\n",
    "true_positives = conf_mat[1][1]\n",
    "false_positives = conf_mat[0][1]\n",
    "print(\"True Positives:\", true_positives, \", False Positives: \", false_positives, \", True Negatives: \", true_negatives,\n",
    "     \", False Negatives: \", false_negatives)"
   ]
  },
  {
   "cell_type": "code",
   "execution_count": 11,
   "metadata": {},
   "outputs": [
    {
     "name": "stdout",
     "output_type": "stream",
     "text": [
      "Accuracy:  0.9374456993918332 , Error:  0.0625543006081668\n"
     ]
    }
   ],
   "source": [
    "# 3. Accuracy, Error\n",
    "accuracy = (true_positives + true_negatives)/y_test.shape[0]\n",
    "error = 1-accuracy\n",
    "print(\"Accuracy: \", accuracy, \", Error: \", error)\n",
    "#print('Accuracy of logistic regression classifier on test set: {:.2f}'.format(log_reg.score(X_test, y_test)))"
   ]
  },
  {
   "cell_type": "code",
   "execution_count": 12,
   "metadata": {},
   "outputs": [
    {
     "name": "stdout",
     "output_type": "stream",
     "text": [
      "Precision on testing set: 0.9321266968325792\n",
      "Recall on testing set: 0.9074889867841409\n",
      "F1-score on testing set: 0.9196428571428571\n"
     ]
    }
   ],
   "source": [
    "#print(\"Accuracy on testing set:\",metrics.accuracy_score(y_test, y_pred))\n",
    "print(\"Precision on testing set:\",metrics.precision_score(y_test, y_pred))\n",
    "print(\"Recall on testing set:\",metrics.recall_score(y_test, y_pred))\n",
    "print(\"F1-score on testing set:\",metrics.f1_score(y_test,y_pred))"
   ]
  },
  {
   "cell_type": "markdown",
   "metadata": {},
   "source": [
    "\\pagebreak"
   ]
  },
  {
   "cell_type": "markdown",
   "metadata": {},
   "source": [
    "## 1b"
   ]
  },
  {
   "cell_type": "code",
   "execution_count": 14,
   "metadata": {},
   "outputs": [
    {
     "name": "stdout",
     "output_type": "stream",
     "text": [
      "Intercept: [-2.05031456]\n"
     ]
    },
    {
     "data": {
      "text/html": [
       "<div>\n",
       "<style scoped>\n",
       "    .dataframe tbody tr th:only-of-type {\n",
       "        vertical-align: middle;\n",
       "    }\n",
       "\n",
       "    .dataframe tbody tr th {\n",
       "        vertical-align: top;\n",
       "    }\n",
       "\n",
       "    .dataframe thead th {\n",
       "        text-align: right;\n",
       "    }\n",
       "</style>\n",
       "<table border=\"1\" class=\"dataframe\">\n",
       "  <thead>\n",
       "    <tr style=\"text-align: right;\">\n",
       "      <th></th>\n",
       "      <th>Coefficients</th>\n",
       "    </tr>\n",
       "  </thead>\n",
       "  <tbody>\n",
       "    <tr>\n",
       "      <td>word_freq_make</td>\n",
       "      <td>-0.128952</td>\n",
       "    </tr>\n",
       "    <tr>\n",
       "      <td>word_freq_address</td>\n",
       "      <td>-0.229919</td>\n",
       "    </tr>\n",
       "    <tr>\n",
       "      <td>word_freq_all</td>\n",
       "      <td>0.021797</td>\n",
       "    </tr>\n",
       "    <tr>\n",
       "      <td>word_freq_3d</td>\n",
       "      <td>0.864687</td>\n",
       "    </tr>\n",
       "    <tr>\n",
       "      <td>word_freq_our</td>\n",
       "      <td>0.375941</td>\n",
       "    </tr>\n",
       "    <tr>\n",
       "      <td>word_freq_over</td>\n",
       "      <td>0.162546</td>\n",
       "    </tr>\n",
       "    <tr>\n",
       "      <td>word_freq_remove</td>\n",
       "      <td>1.072679</td>\n",
       "    </tr>\n",
       "    <tr>\n",
       "      <td>word_freq_internet</td>\n",
       "      <td>0.227923</td>\n",
       "    </tr>\n",
       "    <tr>\n",
       "      <td>word_freq_order</td>\n",
       "      <td>0.184366</td>\n",
       "    </tr>\n",
       "    <tr>\n",
       "      <td>word_freq_mail</td>\n",
       "      <td>0.026171</td>\n",
       "    </tr>\n",
       "    <tr>\n",
       "      <td>word_freq_receive</td>\n",
       "      <td>0.052486</td>\n",
       "    </tr>\n",
       "    <tr>\n",
       "      <td>word_freq_will</td>\n",
       "      <td>-0.147935</td>\n",
       "    </tr>\n",
       "    <tr>\n",
       "      <td>word_freq_people</td>\n",
       "      <td>-0.066259</td>\n",
       "    </tr>\n",
       "    <tr>\n",
       "      <td>word_freq_report</td>\n",
       "      <td>0.027453</td>\n",
       "    </tr>\n",
       "    <tr>\n",
       "      <td>word_freq_addresses</td>\n",
       "      <td>0.327778</td>\n",
       "    </tr>\n",
       "    <tr>\n",
       "      <td>word_freq_free</td>\n",
       "      <td>0.851626</td>\n",
       "    </tr>\n",
       "    <tr>\n",
       "      <td>word_freq_business</td>\n",
       "      <td>0.313429</td>\n",
       "    </tr>\n",
       "    <tr>\n",
       "      <td>word_freq_email</td>\n",
       "      <td>0.107110</td>\n",
       "    </tr>\n",
       "    <tr>\n",
       "      <td>word_freq_you</td>\n",
       "      <td>0.147704</td>\n",
       "    </tr>\n",
       "    <tr>\n",
       "      <td>word_freq_credit</td>\n",
       "      <td>0.297572</td>\n",
       "    </tr>\n",
       "    <tr>\n",
       "      <td>word_freq_your</td>\n",
       "      <td>0.249094</td>\n",
       "    </tr>\n",
       "    <tr>\n",
       "      <td>word_freq_font</td>\n",
       "      <td>0.204894</td>\n",
       "    </tr>\n",
       "    <tr>\n",
       "      <td>word_freq_000</td>\n",
       "      <td>1.528238</td>\n",
       "    </tr>\n",
       "    <tr>\n",
       "      <td>word_freq_money</td>\n",
       "      <td>0.333764</td>\n",
       "    </tr>\n",
       "    <tr>\n",
       "      <td>word_freq_hp</td>\n",
       "      <td>-2.060978</td>\n",
       "    </tr>\n",
       "    <tr>\n",
       "      <td>word_freq_hpl</td>\n",
       "      <td>-0.840894</td>\n",
       "    </tr>\n",
       "    <tr>\n",
       "      <td>word_freq_george</td>\n",
       "      <td>-3.708191</td>\n",
       "    </tr>\n",
       "    <tr>\n",
       "      <td>word_freq_650</td>\n",
       "      <td>0.222779</td>\n",
       "    </tr>\n",
       "    <tr>\n",
       "      <td>word_freq_lab</td>\n",
       "      <td>-0.768961</td>\n",
       "    </tr>\n",
       "    <tr>\n",
       "      <td>word_freq_labs</td>\n",
       "      <td>-0.182240</td>\n",
       "    </tr>\n",
       "    <tr>\n",
       "      <td>word_freq_telnet</td>\n",
       "      <td>-0.225475</td>\n",
       "    </tr>\n",
       "    <tr>\n",
       "      <td>word_freq_857</td>\n",
       "      <td>0.337067</td>\n",
       "    </tr>\n",
       "    <tr>\n",
       "      <td>word_freq_data</td>\n",
       "      <td>-0.317132</td>\n",
       "    </tr>\n",
       "    <tr>\n",
       "      <td>word_freq_415</td>\n",
       "      <td>-1.268668</td>\n",
       "    </tr>\n",
       "    <tr>\n",
       "      <td>word_freq_85</td>\n",
       "      <td>-0.700761</td>\n",
       "    </tr>\n",
       "    <tr>\n",
       "      <td>word_freq_technology</td>\n",
       "      <td>0.249106</td>\n",
       "    </tr>\n",
       "    <tr>\n",
       "      <td>word_freq_1999</td>\n",
       "      <td>-0.025615</td>\n",
       "    </tr>\n",
       "    <tr>\n",
       "      <td>word_freq_parts</td>\n",
       "      <td>-0.134884</td>\n",
       "    </tr>\n",
       "    <tr>\n",
       "      <td>word_freq_pm</td>\n",
       "      <td>-0.380025</td>\n",
       "    </tr>\n",
       "    <tr>\n",
       "      <td>word_freq_direct</td>\n",
       "      <td>-0.341114</td>\n",
       "    </tr>\n",
       "    <tr>\n",
       "      <td>word_freq_cs</td>\n",
       "      <td>-1.563493</td>\n",
       "    </tr>\n",
       "    <tr>\n",
       "      <td>word_freq_meeting</td>\n",
       "      <td>-1.479615</td>\n",
       "    </tr>\n",
       "    <tr>\n",
       "      <td>word_freq_original</td>\n",
       "      <td>-0.178957</td>\n",
       "    </tr>\n",
       "    <tr>\n",
       "      <td>word_freq_project</td>\n",
       "      <td>-0.753836</td>\n",
       "    </tr>\n",
       "    <tr>\n",
       "      <td>word_freq_re</td>\n",
       "      <td>-0.588157</td>\n",
       "    </tr>\n",
       "    <tr>\n",
       "      <td>word_freq_edu</td>\n",
       "      <td>-0.822307</td>\n",
       "    </tr>\n",
       "    <tr>\n",
       "      <td>word_freq_table</td>\n",
       "      <td>-0.176247</td>\n",
       "    </tr>\n",
       "    <tr>\n",
       "      <td>word_freq_conference</td>\n",
       "      <td>-0.998389</td>\n",
       "    </tr>\n",
       "    <tr>\n",
       "      <td>char_freq_;</td>\n",
       "      <td>-0.288732</td>\n",
       "    </tr>\n",
       "    <tr>\n",
       "      <td>char_freq_(</td>\n",
       "      <td>0.030094</td>\n",
       "    </tr>\n",
       "    <tr>\n",
       "      <td>char_freq_[</td>\n",
       "      <td>-0.277017</td>\n",
       "    </tr>\n",
       "    <tr>\n",
       "      <td>char_freq_!</td>\n",
       "      <td>0.656580</td>\n",
       "    </tr>\n",
       "    <tr>\n",
       "      <td>char_freq_$</td>\n",
       "      <td>1.091596</td>\n",
       "    </tr>\n",
       "    <tr>\n",
       "      <td>char_freq_#</td>\n",
       "      <td>0.612885</td>\n",
       "    </tr>\n",
       "    <tr>\n",
       "      <td>capital_run_length_average</td>\n",
       "      <td>1.377071</td>\n",
       "    </tr>\n",
       "    <tr>\n",
       "      <td>capital_run_length_longest</td>\n",
       "      <td>1.160721</td>\n",
       "    </tr>\n",
       "    <tr>\n",
       "      <td>capital_run_length_total</td>\n",
       "      <td>0.344884</td>\n",
       "    </tr>\n",
       "  </tbody>\n",
       "</table>\n",
       "</div>"
      ],
      "text/plain": [
       "                            Coefficients\n",
       "word_freq_make                 -0.128952\n",
       "word_freq_address              -0.229919\n",
       "word_freq_all                   0.021797\n",
       "word_freq_3d                    0.864687\n",
       "word_freq_our                   0.375941\n",
       "word_freq_over                  0.162546\n",
       "word_freq_remove                1.072679\n",
       "word_freq_internet              0.227923\n",
       "word_freq_order                 0.184366\n",
       "word_freq_mail                  0.026171\n",
       "word_freq_receive               0.052486\n",
       "word_freq_will                 -0.147935\n",
       "word_freq_people               -0.066259\n",
       "word_freq_report                0.027453\n",
       "word_freq_addresses             0.327778\n",
       "word_freq_free                  0.851626\n",
       "word_freq_business              0.313429\n",
       "word_freq_email                 0.107110\n",
       "word_freq_you                   0.147704\n",
       "word_freq_credit                0.297572\n",
       "word_freq_your                  0.249094\n",
       "word_freq_font                  0.204894\n",
       "word_freq_000                   1.528238\n",
       "word_freq_money                 0.333764\n",
       "word_freq_hp                   -2.060978\n",
       "word_freq_hpl                  -0.840894\n",
       "word_freq_george               -3.708191\n",
       "word_freq_650                   0.222779\n",
       "word_freq_lab                  -0.768961\n",
       "word_freq_labs                 -0.182240\n",
       "word_freq_telnet               -0.225475\n",
       "word_freq_857                   0.337067\n",
       "word_freq_data                 -0.317132\n",
       "word_freq_415                  -1.268668\n",
       "word_freq_85                   -0.700761\n",
       "word_freq_technology            0.249106\n",
       "word_freq_1999                 -0.025615\n",
       "word_freq_parts                -0.134884\n",
       "word_freq_pm                   -0.380025\n",
       "word_freq_direct               -0.341114\n",
       "word_freq_cs                   -1.563493\n",
       "word_freq_meeting              -1.479615\n",
       "word_freq_original             -0.178957\n",
       "word_freq_project              -0.753836\n",
       "word_freq_re                   -0.588157\n",
       "word_freq_edu                  -0.822307\n",
       "word_freq_table                -0.176247\n",
       "word_freq_conference           -0.998389\n",
       "char_freq_;                    -0.288732\n",
       "char_freq_(                     0.030094\n",
       "char_freq_[                    -0.277017\n",
       "char_freq_!                     0.656580\n",
       "char_freq_$                     1.091596\n",
       "char_freq_#                     0.612885\n",
       "capital_run_length_average      1.377071\n",
       "capital_run_length_longest      1.160721\n",
       "capital_run_length_total        0.344884"
      ]
     },
     "execution_count": 14,
     "metadata": {},
     "output_type": "execute_result"
    }
   ],
   "source": [
    "coeff = pd.DataFrame(log_reg.coef_.T,X_train.columns,columns=['Coefficients'])\n",
    "print(\"Intercept:\", log_reg.intercept_)\n",
    "coeff\n"
   ]
  },
  {
   "cell_type": "markdown",
   "metadata": {},
   "source": [
    "\\pagebreak"
   ]
  },
  {
   "cell_type": "code",
   "execution_count": 15,
   "metadata": {},
   "outputs": [
    {
     "name": "stdout",
     "output_type": "stream",
     "text": [
      "The features that contribute mostly to the prediction are given below:\n"
     ]
    },
    {
     "data": {
      "text/html": [
       "<div>\n",
       "<style scoped>\n",
       "    .dataframe tbody tr th:only-of-type {\n",
       "        vertical-align: middle;\n",
       "    }\n",
       "\n",
       "    .dataframe tbody tr th {\n",
       "        vertical-align: top;\n",
       "    }\n",
       "\n",
       "    .dataframe thead th {\n",
       "        text-align: right;\n",
       "    }\n",
       "</style>\n",
       "<table border=\"1\" class=\"dataframe\">\n",
       "  <thead>\n",
       "    <tr style=\"text-align: right;\">\n",
       "      <th></th>\n",
       "      <th>Coefficients</th>\n",
       "    </tr>\n",
       "  </thead>\n",
       "  <tbody>\n",
       "    <tr>\n",
       "      <td>word_freq_george</td>\n",
       "      <td>-3.708191</td>\n",
       "    </tr>\n",
       "    <tr>\n",
       "      <td>word_freq_hp</td>\n",
       "      <td>-2.060978</td>\n",
       "    </tr>\n",
       "    <tr>\n",
       "      <td>word_freq_cs</td>\n",
       "      <td>-1.563493</td>\n",
       "    </tr>\n",
       "    <tr>\n",
       "      <td>word_freq_000</td>\n",
       "      <td>1.528238</td>\n",
       "    </tr>\n",
       "    <tr>\n",
       "      <td>word_freq_meeting</td>\n",
       "      <td>-1.479615</td>\n",
       "    </tr>\n",
       "    <tr>\n",
       "      <td>capital_run_length_average</td>\n",
       "      <td>1.377071</td>\n",
       "    </tr>\n",
       "    <tr>\n",
       "      <td>word_freq_415</td>\n",
       "      <td>-1.268668</td>\n",
       "    </tr>\n",
       "    <tr>\n",
       "      <td>capital_run_length_longest</td>\n",
       "      <td>1.160721</td>\n",
       "    </tr>\n",
       "    <tr>\n",
       "      <td>char_freq_$</td>\n",
       "      <td>1.091596</td>\n",
       "    </tr>\n",
       "    <tr>\n",
       "      <td>word_freq_remove</td>\n",
       "      <td>1.072679</td>\n",
       "    </tr>\n",
       "  </tbody>\n",
       "</table>\n",
       "</div>"
      ],
      "text/plain": [
       "                            Coefficients\n",
       "word_freq_george               -3.708191\n",
       "word_freq_hp                   -2.060978\n",
       "word_freq_cs                   -1.563493\n",
       "word_freq_000                   1.528238\n",
       "word_freq_meeting              -1.479615\n",
       "capital_run_length_average      1.377071\n",
       "word_freq_415                  -1.268668\n",
       "capital_run_length_longest      1.160721\n",
       "char_freq_$                     1.091596\n",
       "word_freq_remove                1.072679"
      ]
     },
     "execution_count": 15,
     "metadata": {},
     "output_type": "execute_result"
    }
   ],
   "source": [
    "coeff[\"new_coeff\"] = abs(coeff[\"Coefficients\"])\n",
    "coeff = coeff.sort_values(by = 'new_coeff',ascending=False)\n",
    "coeff = coeff.drop('new_coeff',axis =1)\n",
    "print(\"The features that contribute mostly to the prediction are given below:\")\n",
    "coeff.head(n=10)\n"
   ]
  },
  {
   "cell_type": "code",
   "execution_count": 16,
   "metadata": {},
   "outputs": [
    {
     "name": "stdout",
     "output_type": "stream",
     "text": [
      "Features positively correlated with spam class:  ['word_freq_all', 'word_freq_3d', 'word_freq_our', 'word_freq_over', 'word_freq_remove', 'word_freq_internet', 'word_freq_order', 'word_freq_mail', 'word_freq_receive', 'word_freq_report', 'word_freq_addresses', 'word_freq_free', 'word_freq_business', 'word_freq_email', 'word_freq_you', 'word_freq_credit', 'word_freq_your', 'word_freq_font', 'word_freq_000', 'word_freq_money', 'word_freq_650', 'word_freq_857', 'word_freq_technology', 'char_freq_(', 'char_freq_!', 'char_freq_$', 'char_freq_#', 'capital_run_length_average', 'capital_run_length_longest', 'capital_run_length_total']\n",
      "\n",
      "\n",
      "Features negatively correlated with spam class:  ['word_freq_make', 'word_freq_address', 'word_freq_will', 'word_freq_people', 'word_freq_hp', 'word_freq_hpl', 'word_freq_george', 'word_freq_lab', 'word_freq_labs', 'word_freq_telnet', 'word_freq_data', 'word_freq_415', 'word_freq_85', 'word_freq_1999', 'word_freq_parts', 'word_freq_pm', 'word_freq_direct', 'word_freq_cs', 'word_freq_meeting', 'word_freq_original', 'word_freq_project', 'word_freq_re', 'word_freq_edu', 'word_freq_table', 'word_freq_conference', 'char_freq_;', 'char_freq_[']\n"
     ]
    }
   ],
   "source": [
    "#coeff = pd.DataFrame(log_reg.coef_.T,X_train.columns,columns=['Coefficients'])\n",
    "coeff = pd.DataFrame(log_reg.coef_,columns = X_train.columns)\n",
    "pos_corr = []\n",
    "neg_corr = []\n",
    "for i in coeff:\n",
    "    if coeff[i][0] > 0:\n",
    "        pos_corr.append(i)\n",
    "    else:\n",
    "        neg_corr.append(i)\n",
    "print(\"Features positively correlated with spam class: \", pos_corr)\n",
    "print(\"\\n\")\n",
    "print(\"Features negatively correlated with spam class: \", neg_corr)"
   ]
  },
  {
   "cell_type": "code",
   "execution_count": 17,
   "metadata": {},
   "outputs": [],
   "source": [
    "# log_reg.predict_proba(X_test)"
   ]
  },
  {
   "cell_type": "code",
   "execution_count": 18,
   "metadata": {},
   "outputs": [],
   "source": [
    "# log_reg.predict(X_test)"
   ]
  },
  {
   "cell_type": "markdown",
   "metadata": {},
   "source": [
    "\\pagebreak"
   ]
  },
  {
   "cell_type": "markdown",
   "metadata": {},
   "source": [
    "## 1c"
   ]
  },
  {
   "cell_type": "code",
   "execution_count": 19,
   "metadata": {},
   "outputs": [
    {
     "name": "stdout",
     "output_type": "stream",
     "text": [
      "Accuracy when decision threshold is  0.25 :  0.9148566463944396\n",
      "Precision when decision threshold is  0.25 :  0.8503937007874016\n",
      "Recall when decision threshold is  0.25 :  0.9515418502202643\n",
      "\n",
      "\n",
      "Accuracy when decision threshold is  0.5 :  0.9374456993918332\n",
      "Precision when decision threshold is  0.5 :  0.9321266968325792\n",
      "Recall when decision threshold is  0.5 :  0.9074889867841409\n",
      "\n",
      "\n",
      "Accuracy when decision threshold is  0.75 :  0.895742832319722\n",
      "Precision when decision threshold is  0.75 :  0.9441489361702128\n",
      "Recall when decision threshold is  0.75 :  0.7819383259911894\n",
      "\n",
      "\n",
      "Accuracy when decision threshold is  0.9 :  0.8479582971329279\n",
      "Precision when decision threshold is  0.9 :  0.9603960396039604\n",
      "Recall when decision threshold is  0.9 :  0.6409691629955947\n",
      "\n",
      "\n"
     ]
    }
   ],
   "source": [
    "y_prob = log_reg.predict_proba(X_test)[::,1]\n",
    "\n",
    "\n",
    "\n",
    "decision_threshold = [0.25,0.5,0.75,0.9]\n",
    "\n",
    "for i in decision_threshold:\n",
    "    y_pred_dt = []\n",
    "    for j in y_prob:\n",
    "        if j>=i:\n",
    "            y_pred_dt.append(1)\n",
    "        else:\n",
    "            y_pred_dt.append(0)\n",
    "    print(\"Accuracy when decision threshold is \",i,\": \",metrics.accuracy_score(y_test, y_pred_dt))\n",
    "    print(\"Precision when decision threshold is \",i,\": \",metrics.precision_score(y_test, y_pred_dt))\n",
    "    print(\"Recall when decision threshold is \",i,\": \",metrics.recall_score(y_test, y_pred_dt))\n",
    "    #print(confusion_matrix(y_test, y_pred_dt))\n",
    "    print(\"\\n\")"
   ]
  },
  {
   "cell_type": "markdown",
   "metadata": {},
   "source": [
    "For decision threshold = 0.5, the combination of the values of the accuracy, precision and recall are best, hence the decision threshold = 0.5 is the best choice. Accuracy of the model increases as the threshold increases till threshold=0.5, post which the accuracy decreases. Precision increases as the decision threshold increases as the count of false positives decreases. Recall decreases as the threshold increases as the count of false negatives increases."
   ]
  },
  {
   "cell_type": "markdown",
   "metadata": {},
   "source": [
    "\\pagebreak"
   ]
  },
  {
   "cell_type": "markdown",
   "metadata": {},
   "source": [
    "## 1d"
   ]
  },
  {
   "cell_type": "code",
   "execution_count": 20,
   "metadata": {},
   "outputs": [],
   "source": [
    "X = org_data.iloc[:,0:-1]\n",
    "y = org_data[['class']]\n",
    "\n",
    "# splitting the data\n",
    "X_train, X_test, y_train, y_test = train_test_split(X, y, test_size = 0.25, stratify=y, random_state = 57)\n",
    "\n",
    "# preprocessing\n",
    "ss_scaler = preprocessing.StandardScaler()\n",
    "X_train = pd.DataFrame(ss_scaler.fit_transform(X_train),columns=X_train.columns)\n",
    "X_test = pd.DataFrame(ss_scaler.transform(X_test),columns = X_test.columns)\n"
   ]
  },
  {
   "cell_type": "code",
   "execution_count": 21,
   "metadata": {},
   "outputs": [],
   "source": [
    "# Compute Cost function is implemented to check if the cost is decreasing with iterations\n",
    "def cross_entropy_obj(X,y,theta):\n",
    "    N = y.shape[0]\n",
    "    z = np.dot(X, theta)\n",
    "    h = sigmoid(z)\n",
    "#     print(\"h\",h)\n",
    "#     print(\"first half\", -(np.transpose(y).dot(np.log(h))))\n",
    "#     print(\"second half\", -(np.transpose(1-y).dot(np.log(1-h))))\n",
    "    cost = (1/N)*(-(np.transpose(y).dot(np.log(h)))-(np.transpose(1-y).dot(np.log(1-h))))\n",
    "    return cost\n",
    "\n",
    "# Sigmoid function\n",
    "def sigmoid(z):\n",
    "    return 1 / (1 + np.exp(-z))\n",
    "\n",
    "# Method to compute the theta values using gradient descent\n",
    "def gradient_descent_log_reg(X, y, alpha, num_iters):\n",
    "    iters = num_iters\n",
    "    if 'x0' not in X.columns:\n",
    "        x0 = np.ones((X.shape[0], 1), dtype=int)\n",
    "        X.insert(0, \"x0\", x0, True)\n",
    "    # d is the number of features    \n",
    "    d = X_train.shape[1]\n",
    "    # Initializing theta with zeros\n",
    "    theta = np.zeros((d,1))    \n",
    "    X=X.values\n",
    "    y=y.values\n",
    "    diff_cost = 0\n",
    "    N = y.shape[0]\n",
    "    theta_old = theta\n",
    "    \n",
    "    #while diff_cost > 0.000001 or num_iters > 0\n",
    "    \n",
    "    while num_iters > 0:\n",
    "        z = np.dot(X, theta_old)\n",
    "        h = sigmoid(z)\n",
    "        gradient = np.transpose(X).dot(h-y)\n",
    "        theta_new = theta_old - alpha * (1/N) * gradient\n",
    "        #print(\"theta_new\", theta_new)\n",
    "        # checking for convergence\n",
    "        delta_theta = theta_new - theta_old\n",
    "        delta = np.sqrt(np.transpose(delta_theta).dot(delta_theta))\n",
    "        #print(delta)\n",
    "        if delta < 0.00001 and iters != num_iters :\n",
    "            print(\"Gradient descent converged at iteration\", iters-num_iters)\n",
    "            break\n",
    "        num_iters = num_iters - 1\n",
    "        old_cost = cross_entropy_obj(X,y,theta_old)\n",
    "        theta_old = theta_new\n",
    "        new_cost = cross_entropy_obj(X,y,theta_new)\n",
    "        diff_cost = old_cost - new_cost\n",
    "        #print(\"old_cost\", old_cost)\n",
    "        #print(\"new cost\", new_cost)\n",
    "        #print(\"diffcost:\", diff_cost)\n",
    "    return theta_new\n",
    "\n",
    "\n",
    "def predict_prob(X,theta):\n",
    "    if 'x0' not in X.columns:\n",
    "        x0 = np.ones((X.shape[0], 1), dtype=int)\n",
    "        X.insert(0, \"x0\", x0, True)\n",
    "    return(sigmoid(np.dot(X,theta)))\n",
    "\n",
    "\n",
    "# predict the y values using theta and X\n",
    "def predict(y, threshold):\n",
    "    y_pred_gd=[]\n",
    "    for i in y:\n",
    "        if i>=threshold:\n",
    "            y_pred_gd.append(1)\n",
    "        else:\n",
    "            y_pred_gd.append(0)\n",
    "    return y_pred_gd\n",
    "\n"
   ]
  },
  {
   "cell_type": "code",
   "execution_count": 22,
   "metadata": {},
   "outputs": [],
   "source": [
    "# theta = gradient_descent_log_reg(X_train, y_train, 0.3, 10)\n",
    "# print(cross_entropy_obj(X_train,y_train,theta)[0][0])"
   ]
  },
  {
   "cell_type": "code",
   "execution_count": 23,
   "metadata": {},
   "outputs": [
    {
     "name": "stdout",
     "output_type": "stream",
     "text": [
      "Cross Entropy for alpha = 0.01 and iterations =  10 is:  0.6495252510572939\n",
      "Cross Entropy for alpha = 0.01 and iterations =  50 is:  0.5365732045629628\n",
      "Cross Entropy for alpha = 0.01 and iterations =  100 is:  0.46158848382339607\n",
      "Accuracy when decision threshold is 0.01 and iter = 100:  0.8992180712423979\n",
      "F1_score when decision threshold is 0.01 and iter = 100:  0.8719646799116998\n",
      "\n",
      "\n",
      "Cross Entropy for alpha = 0.05 and iterations =  10 is:  0.5348795325629325\n",
      "Cross Entropy for alpha = 0.05 and iterations =  50 is:  0.36599881153810176\n",
      "Cross Entropy for alpha = 0.05 and iterations =  100 is:  0.3126833535736034\n",
      "Accuracy when decision threshold is 0.05 and iter = 100:  0.9026933101650738\n",
      "F1_score when decision threshold is 0.05 and iter = 100:  0.8747203579418344\n",
      "\n",
      "\n",
      "Cross Entropy for alpha = 0.4 and iterations =  10 is:  0.3232409114693962\n",
      "Cross Entropy for alpha = 0.4 and iterations =  50 is:  0.2510707094697467\n",
      "Cross Entropy for alpha = 0.4 and iterations =  100 is:  0.23462056796440348\n",
      "Accuracy when decision threshold is 0.4 and iter = 100:  0.9131190269331017\n",
      "F1_score when decision threshold is 0.4 and iter = 100:  0.8876404494382022\n",
      "\n",
      "\n"
     ]
    }
   ],
   "source": [
    "lr_rates = [0.01, 0.05, 0.4]\n",
    "iter_var = [10, 50, 100]\n",
    "\n",
    "for i in lr_rates:\n",
    "    for j in iter_var:\n",
    "        theta = gradient_descent_log_reg(X_train, y_train, i, j)\n",
    "        print(\"Cross Entropy for alpha =\", i,\"and iterations = \", j, \"is: \", cross_entropy_obj(X_train,y_train,theta)[0][0])\n",
    "        if j == 100:\n",
    "            pred_prob = predict_prob(X_test,theta)\n",
    "            y_pred_val = predict(pred_prob, 0.5)\n",
    "            print(\"Accuracy when decision threshold is\",i,\"and iter = 100: \",metrics.accuracy_score(y_test, y_pred_val))\n",
    "            print(\"F1_score when decision threshold is\",i,\"and iter = 100: \",metrics.f1_score(y_test, y_pred_val))\n",
    "            print(\"\\n\")\n",
    "        "
   ]
  },
  {
   "cell_type": "markdown",
   "metadata": {},
   "source": [
    "Compared to the metrics given by the package, the accuracy and F1 score obtained is less using my implementation of the logistic regression using gradient descent which might be due to the fact that the gradient descent is still not converged with 100 iterations and the alpha values selected.  "
   ]
  },
  {
   "cell_type": "markdown",
   "metadata": {},
   "source": [
    "\\pagebreak"
   ]
  },
  {
   "cell_type": "markdown",
   "metadata": {},
   "source": [
    "# Problem 2"
   ]
  },
  {
   "cell_type": "markdown",
   "metadata": {},
   "source": [
    "## 2a"
   ]
  },
  {
   "cell_type": "code",
   "execution_count": 24,
   "metadata": {},
   "outputs": [],
   "source": [
    "# removing bias again\n",
    "\n",
    "# X_train = X_train.iloc[:,1:]\n",
    "# X_test = X_test.iloc[:,1:]\n",
    "if X_train.columns[0] == \"x0\":\n",
    "    X_train = X_train.iloc[:,1:]\n",
    "if X_test.columns[0]==\"x0\":\n",
    "    X_test = X_test.iloc[:,1:]\n",
    "y_train = np.ravel(y_train)"
   ]
  },
  {
   "cell_type": "code",
   "execution_count": 25,
   "metadata": {},
   "outputs": [
    {
     "name": "stdout",
     "output_type": "stream",
     "text": [
      "Accuracy in training data using KNN for k= 1 :  0.9994202898550725\n",
      "Error in training data using KNN for k= 1 :  0.0005797101449275255\n",
      "Accuracy in testing data using KNN for k= 1 :  0.9183318853171155\n",
      "Error in testing data using KNN for k= 1 :  0.08166811468288449\n",
      "\n",
      "\n",
      "Accuracy in training data using KNN for k= 3 :  0.9504347826086956\n",
      "Error in training data using KNN for k= 3 :  0.04956521739130437\n",
      "Accuracy in testing data using KNN for k= 3 :  0.9252823631624674\n",
      "Error in testing data using KNN for k= 3 :  0.07471763683753263\n",
      "\n",
      "\n",
      "Accuracy in training data using KNN for k= 5 :  0.9307246376811594\n",
      "Error in training data using KNN for k= 5 :  0.06927536231884057\n",
      "Accuracy in testing data using KNN for k= 5 :  0.9235447437011295\n",
      "Error in testing data using KNN for k= 5 :  0.07645525629887051\n",
      "\n",
      "\n",
      "Accuracy in training data using KNN for k= 7 :  0.9260869565217391\n",
      "Error in training data using KNN for k= 7 :  0.07391304347826089\n",
      "Accuracy in testing data using KNN for k= 7 :  0.9087749782797567\n",
      "Error in testing data using KNN for k= 7 :  0.09122502172024327\n",
      "\n",
      "\n",
      "Accuracy in training data using KNN for k= 9 :  0.9234782608695652\n",
      "Error in training data using KNN for k= 9 :  0.07652173913043481\n",
      "Accuracy in testing data using KNN for k= 9 :  0.9096437880104257\n",
      "Error in testing data using KNN for k= 9 :  0.09035621198957433\n",
      "\n",
      "\n",
      "Accuracy in training data using KNN for k= 11 :  0.9214492753623188\n",
      "Error in training data using KNN for k= 11 :  0.0785507246376812\n",
      "Accuracy in testing data using KNN for k= 11 :  0.9087749782797567\n",
      "Error in testing data using KNN for k= 11 :  0.09122502172024327\n",
      "\n",
      "\n",
      "Accuracy in training data using KNN for k= 13 :  0.9162318840579711\n",
      "Error in training data using KNN for k= 13 :  0.08376811594202893\n",
      "Accuracy in testing data using KNN for k= 13 :  0.9131190269331017\n",
      "Error in testing data using KNN for k= 13 :  0.08688097306689835\n",
      "\n",
      "\n",
      "Accuracy in training data using KNN for k= 15 :  0.9098550724637681\n",
      "Error in training data using KNN for k= 15 :  0.09014492753623193\n",
      "Accuracy in testing data using KNN for k= 15 :  0.9009556907037359\n",
      "Error in testing data using KNN for k= 15 :  0.09904430929626407\n",
      "\n",
      "\n"
     ]
    }
   ],
   "source": [
    "from sklearn.neighbors import KNeighborsClassifier\n",
    "\n",
    "for i in range(1,17,2):\n",
    "    classifier = KNeighborsClassifier(n_neighbors=i)\n",
    "    classifier.fit(X_train, y_train)\n",
    "    #predictions \n",
    "    y_pred_train_knn = classifier.predict(X_train)\n",
    "    y_pred_test_knn = classifier.predict(X_test)\n",
    "    print(\"Accuracy in training data using KNN for k=\",i,\": \",metrics.accuracy_score(y_train, y_pred_train_knn))\n",
    "    print(\"Error in training data using KNN for k=\",i,\": \",1-metrics.accuracy_score(y_train, y_pred_train_knn))\n",
    "    print(\"Accuracy in testing data using KNN for k=\",i,\": \",metrics.accuracy_score(y_test, y_pred_test_knn))\n",
    "    print(\"Error in testing data using KNN for k=\",i,\": \",1-metrics.accuracy_score(y_test, y_pred_test_knn))\n",
    "    print(\"\\n\")"
   ]
  },
  {
   "cell_type": "markdown",
   "metadata": {},
   "source": [
    "k=3, gives the highest accuracy in testing."
   ]
  },
  {
   "cell_type": "markdown",
   "metadata": {},
   "source": [
    "\\pagebreak"
   ]
  },
  {
   "cell_type": "markdown",
   "metadata": {},
   "source": [
    "## 2b"
   ]
  },
  {
   "cell_type": "code",
   "execution_count": 26,
   "metadata": {
    "scrolled": true
   },
   "outputs": [
    {
     "name": "stdout",
     "output_type": "stream",
     "text": [
      "Accuracy in training set using Logistic Regression : 0.9318840579710145\n",
      "Error in training set using Logistic Regression : 0.06811594202898552\n",
      "Accuracy in testing set using Logistic Regression : 0.9374456993918332\n",
      "Error in testing set using Logistic Regression : 0.0625543006081668\n",
      "Precision in testing set using Logistic Regression : 0.9321266968325792\n",
      "Recall in testing set using Logistic Regression : 0.9074889867841409\n",
      "\n",
      "\n",
      "Accuracy in training set using LDA : 0.896231884057971\n",
      "Error in training set using LDA : 0.10376811594202895\n",
      "Accuracy in testing set using LDA : 0.894005212858384\n",
      "Error in testing set using LDA : 0.10599478714161603\n",
      "Precision in testing set using LDA : 0.9088669950738916\n",
      "Recall in testing set using LDA : 0.8127753303964758\n",
      "\n",
      "\n",
      "Accuracy in training set using kNN : 0.9504347826086956\n",
      "Error in training set using kNN : 0.04956521739130437\n",
      "Accuracy in testing set using kNN : 0.9252823631624674\n",
      "Error in testing set using kNN : 0.07471763683753263\n",
      "Precision in testing set using kNN : 0.9088888888888889\n",
      "Recall in testing set using kNN : 0.9008810572687225\n",
      "\n",
      "\n",
      "Accuracy in training set using Naive Bayes : 0.8136231884057971\n",
      "Error in training set using Naive Bayes : 0.18637681159420294\n",
      "Accuracy in testing set using Naive Bayes : 0.8166811468288445\n",
      "Error in testing set using Naive Bayes : 0.18331885317115548\n",
      "Precision in testing set using Naive Bayes : 0.6925515055467512\n",
      "Recall in testing set using Naive Bayes : 0.9625550660792952\n",
      "\n",
      "\n",
      "Accuracy in training set using Decision Tree : 0.9994202898550725\n",
      "Error in training set using Decision Tree : 0.0005797101449275255\n",
      "Accuracy in testing set using Decision Tree : 0.9079061685490878\n",
      "Error in testing set using Decision Tree : 0.09209383145091221\n",
      "Precision in testing set using Decision Tree : 0.8670886075949367\n",
      "Recall in testing set using Decision Tree : 0.9052863436123348\n",
      "\n",
      "\n"
     ]
    }
   ],
   "source": [
    "from sklearn.discriminant_analysis import LinearDiscriminantAnalysis\n",
    "from sklearn.naive_bayes import GaussianNB\n",
    "from sklearn.tree import DecisionTreeClassifier\n",
    "from sklearn.metrics import roc_curve, auc\n",
    "\n",
    "classifiers = [\"Logistic Regression\", \"LDA\", \"kNN\", \"Naive Bayes\", \"Decision Tree\"]\n",
    "\n",
    "def log_reg(X,y):\n",
    "    log_reg = LogisticRegression()\n",
    "    log_reg.fit(X,y)\n",
    "    return log_reg\n",
    "\n",
    "def knn(X,y):\n",
    "    classifier = KNeighborsClassifier(n_neighbors=3)\n",
    "    classifier.fit(X,y)\n",
    "    return classifier\n",
    "\n",
    "def LDA(X,y):\n",
    "    lda = LinearDiscriminantAnalysis()\n",
    "    lda.fit(X,y)\n",
    "    return lda\n",
    "\n",
    "def NB(X,y):\n",
    "    nb = GaussianNB()\n",
    "    nb.fit(X,y)\n",
    "    return nb\n",
    "\n",
    "def DTClassifier(X,y):\n",
    "    clf = DecisionTreeClassifier()\n",
    "    clf.fit(X,y)\n",
    "    return clf\n",
    "\n",
    "\n",
    "    \n",
    "def predict(classifier,X_train,y_train,X_test,y_test):\n",
    "    if classifier == \"Logistic Regression\":\n",
    "        model = log_reg(X_train,y_train)\n",
    "    elif classifier == \"kNN\":\n",
    "        model = knn(X_train, y_train)\n",
    "    elif classifier == \"LDA\" :\n",
    "        model = LDA(X_train, y_train)\n",
    "    elif classifier == \"Naive Bayes\":\n",
    "        model = NB(X_train, y_train)\n",
    "    elif classifier == \"Decision Tree\":\n",
    "        model = DTClassifier(X_train, y_train)\n",
    "    \n",
    "    y_pred_train = model.predict(X_train)\n",
    "    y_pred_test = model.predict(X_test)\n",
    "    print(\"Accuracy in training set using\",classifier,\":\",metrics.accuracy_score(y_train, y_pred_train))\n",
    "    print(\"Error in training set using\",classifier,\":\",1 - metrics.accuracy_score(y_train, y_pred_train))\n",
    "    print(\"Accuracy in testing set using\",classifier,\":\",metrics.accuracy_score(y_test, y_pred_test))\n",
    "    print(\"Error in testing set using\",classifier,\":\",1 - metrics.accuracy_score(y_test, y_pred_test))\n",
    "    print(\"Precision in testing set using\",classifier,\":\",metrics.precision_score(y_test, y_pred_test))\n",
    "    print(\"Recall in testing set using\",classifier,\":\",metrics.recall_score(y_test, y_pred_test))\n",
    "    print(\"\\n\") \n",
    "    \n",
    "for i in classifiers:\n",
    "    predict(i,X_train,y_train,X_test,y_test)"
   ]
  },
  {
   "cell_type": "markdown",
   "metadata": {},
   "source": [
    "Logistic regression is performing best with accuracy = 0.937, precision = 0.93 and recall = 0.907. Naive Bayes is performing worst among the models selected accuracy = 0.816, precision = 0.69 and recall = 0.96. Naive Bayes predicts the actual class correctly far better than any other classifiers but the accuracy and precision is lower than any other classifier probably due to the fact that Naive Bayes assumption of independence among features. The accuracy for LDA is 0.89, accuracy for kNN = 0.925 and accuracy for decsion trees = 0.910."
   ]
  },
  {
   "cell_type": "markdown",
   "metadata": {},
   "source": [
    "\\pagebreak"
   ]
  },
  {
   "cell_type": "markdown",
   "metadata": {},
   "source": [
    "## 2c"
   ]
  },
  {
   "cell_type": "code",
   "execution_count": 27,
   "metadata": {
    "scrolled": true
   },
   "outputs": [
    {
     "name": "stdout",
     "output_type": "stream",
     "text": [
      "AUC for Logistic Regression : 0.9712913746136683\n",
      "AUC for LDA : 0.9456402202011135\n",
      "AUC for kNN : 0.9552408370676087\n",
      "AUC for Naive Bayes : 0.9378377438866381\n",
      "AUC for Decision Tree : 0.9117536452638431\n"
     ]
    },
    {
     "data": {
      "image/png": "[encoded data removed]",
      "text/plain": [
       "<Figure size 432x288 with 1 Axes>"
      ]
     },
     "metadata": {
      "needs_background": "light"
     },
     "output_type": "display_data"
    }
   ],
   "source": [
    "import matplotlib.pyplot as plt\n",
    "\n",
    "def ROC(classifiers,X_train,y_train,X_test,y_test):\n",
    "    for classifier in classifiers:\n",
    "        if classifier == \"Logistic Regression\":\n",
    "            model = log_reg(X_train,y_train)\n",
    "        elif classifier == \"kNN\":\n",
    "            model = knn(X_train, y_train)\n",
    "        elif classifier == \"LDA\" :\n",
    "            model = LDA(X_train, y_train)\n",
    "        elif classifier == \"Naive Bayes\":\n",
    "            model = NB(X_train, y_train)\n",
    "        elif classifier == \"Decision Tree\":\n",
    "            model = DTClassifier(X_train, y_train)\n",
    "\n",
    "        #y_pred_test = model.predict(X_test)\n",
    "        y_pred_test = model.predict_proba(X_test)[:,1]\n",
    "        #print(y_pred_test)\n",
    "        fpr, tpr, thresholds = roc_curve(y_test,y_pred_test)\n",
    "        #print(fpr,tpr,thresholds)\n",
    "    #     plot_ROC(fpr,tpr,classifier)\n",
    "\n",
    "    # def plot_ROC(false_positive_rate,true_positive_rate,classifier): (area = %0.2f) % auc(fpr,tpr)\n",
    "        lw=2\n",
    "        plt.plot(fpr,tpr, lw=lw,\n",
    "                 label='ROC curve for %s (area = %0.2f)' % (classifier,auc(fpr,tpr)) )\n",
    "        plt.plot([0, 1], [0, 1], lw=lw, color='navy', linestyle='--')\n",
    "        plt.xlim([0.0, 1.0])\n",
    "        plt.ylim([0.0, 1.05])\n",
    "        plt.xlabel('False Positive Rate')\n",
    "        plt.ylabel('True Positive Rate')\n",
    "        title = 'Receiver operating characteristic'\n",
    "        plt.title(title)\n",
    "        plt.legend(loc=\"lower right\")\n",
    "        #plt.show()\n",
    "        print(\"AUC for\",classifier,\":\",auc(fpr,tpr))\n",
    "    plt.show()    \n",
    "    \n",
    "#for i in classifiers:\n",
    "ROC(classifiers,X_train,y_train,X_test,y_test)\n",
    "    "
   ]
  },
  {
   "cell_type": "markdown",
   "metadata": {},
   "source": [
    "\\pagebreak"
   ]
  },
  {
   "cell_type": "markdown",
   "metadata": {},
   "source": [
    "# Problem 3"
   ]
  },
  {
   "cell_type": "markdown",
   "metadata": {},
   "source": [
    "## 3a"
   ]
  },
  {
   "cell_type": "code",
   "execution_count": 28,
   "metadata": {},
   "outputs": [],
   "source": [
    "\n",
    "X = org_data.iloc[:,0:-1]\n",
    "y = org_data[['class']]\n",
    "# splitting the data\n",
    "X_train, X_test, y_train, y_test = train_test_split(X, y, test_size = 100, train_size = 100, stratify=y, random_state = 57)\n"
   ]
  },
  {
   "cell_type": "code",
   "execution_count": 29,
   "metadata": {},
   "outputs": [],
   "source": [
    "# preprocessing\n",
    "ss_scaler = preprocessing.StandardScaler()\n",
    "X_train = pd.DataFrame(ss_scaler.fit_transform(X_train),columns=X_train.columns)\n",
    "X_test = pd.DataFrame(ss_scaler.transform(X_test),columns = X_test.columns)"
   ]
  },
  {
   "cell_type": "code",
   "execution_count": 30,
   "metadata": {},
   "outputs": [],
   "source": [
    "#a\n",
    "def euclidean_distance(X,Y):\n",
    "    temp = np.transpose(X-Y).dot(X-Y)\n",
    "    distance = np.sqrt(temp)\n",
    "    return distance\n",
    "    "
   ]
  },
  {
   "cell_type": "markdown",
   "metadata": {},
   "source": [
    "## 3b"
   ]
  },
  {
   "cell_type": "code",
   "execution_count": 31,
   "metadata": {},
   "outputs": [
    {
     "name": "stdout",
     "output_type": "stream",
     "text": [
      "1\n"
     ]
    }
   ],
   "source": [
    "#b\n",
    "\n",
    "def test_kNN(k,train_feature,train_class,test_point):\n",
    "    distance_list = []\n",
    "    nearest_points = []\n",
    "    pred_class_dict = {}\n",
    "    \n",
    "    for i, sample in enumerate(train_feature.values):\n",
    "        distance_list.append([euclidean_distance(sample,test_point.values)])\n",
    "        distance_list[i].append(i)\n",
    "        \n",
    "    k_nearest_distances = sorted(distance_list,key=key_func)[0:k]\n",
    "    \n",
    "    for i in k_nearest_distances:\n",
    "        nearest_points.append(i[1])\n",
    "    \n",
    "    for point in nearest_points:\n",
    "        class_val = train_class.iloc[point][0]\n",
    "        if class_val not in pred_class_dict:\n",
    "            pred_class_dict[class_val] = 1\n",
    "        else:\n",
    "            pred_class_dict[class_val] += 1\n",
    "    #print(pred_class_dict)\n",
    "    pred_class = max(pred_class_dict, key=pred_class_dict.get)\n",
    "    return(pred_class)      \n",
    "\n",
    "    \n",
    "def key_func(s):\n",
    "    return s[0]\n",
    "\n",
    "print(test_kNN(5, X_train, y_train, X_test.iloc[0]))\n"
   ]
  },
  {
   "cell_type": "markdown",
   "metadata": {},
   "source": [
    "\\pagebreak"
   ]
  },
  {
   "cell_type": "markdown",
   "metadata": {},
   "source": [
    "## 3c"
   ]
  },
  {
   "cell_type": "code",
   "execution_count": 32,
   "metadata": {},
   "outputs": [
    {
     "name": "stdout",
     "output_type": "stream",
     "text": [
      "Running time of kNN testing averaged over all the points in the testing set for k=1 is 0.0032459044456481932 seconds \n",
      "Accuracy in testing data using KNN for k= 1 :  0.77\n",
      "Error in testing data using KNN for k= 1 :  0.22999999999999998\n",
      "\n",
      "\n",
      "Running time of kNN testing averaged over all the points in the testing set for k=3 is 0.003396103382110596 seconds \n",
      "Accuracy in testing data using KNN for k= 3 :  0.88\n",
      "Error in testing data using KNN for k= 3 :  0.12\n",
      "\n",
      "\n",
      "Running time of kNN testing averaged over all the points in the testing set for k=5 is 0.005052683353424073 seconds \n",
      "Accuracy in testing data using KNN for k= 5 :  0.87\n",
      "Error in testing data using KNN for k= 5 :  0.13\n",
      "\n",
      "\n",
      "Running time of kNN testing averaged over all the points in the testing set for k=7 is 0.00550652027130127 seconds \n",
      "Accuracy in testing data using KNN for k= 7 :  0.89\n",
      "Error in testing data using KNN for k= 7 :  0.10999999999999999\n",
      "\n",
      "\n",
      "Running time of kNN testing averaged over all the points in the testing set for k=9 is 0.007336332798004151 seconds \n",
      "Accuracy in testing data using KNN for k= 9 :  0.86\n",
      "Error in testing data using KNN for k= 9 :  0.14\n",
      "\n",
      "\n",
      "Running time of kNN testing averaged over all the points in the testing set for k=11 is 0.008636469841003419 seconds \n",
      "Accuracy in testing data using KNN for k= 11 :  0.82\n",
      "Error in testing data using KNN for k= 11 :  0.18000000000000005\n",
      "\n",
      "\n",
      "Running time of kNN testing averaged over all the points in the testing set for k=13 is 0.009068861007690429 seconds \n",
      "Accuracy in testing data using KNN for k= 13 :  0.86\n",
      "Error in testing data using KNN for k= 13 :  0.14\n",
      "\n",
      "\n",
      "Running time of kNN testing averaged over all the points in the testing set for k=15 is 0.010600345134735107 seconds \n",
      "Accuracy in testing data using KNN for k= 15 :  0.9\n",
      "Error in testing data using KNN for k= 15 :  0.09999999999999998\n",
      "\n",
      "\n"
     ]
    }
   ],
   "source": [
    "# c\n",
    "# Using my own implementation\n",
    "import time\n",
    "\n",
    "n_row = X_test.shape[0]\n",
    "for k in range(1,17,2):\n",
    "    y_pred_kNN = []\n",
    "    start_time = time.time()\n",
    "    for row in range(n_row):\n",
    "        y_pred_kNN.append(test_kNN(k, X_train, y_train, X_test.iloc[row]))\n",
    "    print(\"Running time of kNN testing averaged over all the points in the testing set for k=%d is %s seconds \" \n",
    "          % (k,((time.time() - start_time)/n_row)))\n",
    "    #print(y_pred_kNN)    \n",
    "    print(\"Accuracy in testing data using KNN for k=\",k,\": \",metrics.accuracy_score(y_test,y_pred_kNN))\n",
    "    print(\"Error in testing data using KNN for k=\",k,\": \",1-metrics.accuracy_score(y_test, y_pred_kNN))\n",
    "    print(\"\\n\")\n",
    "    "
   ]
  },
  {
   "cell_type": "markdown",
   "metadata": {},
   "source": [
    "\\pagebreak"
   ]
  },
  {
   "cell_type": "markdown",
   "metadata": {},
   "source": [
    "## 3d"
   ]
  },
  {
   "cell_type": "code",
   "execution_count": 33,
   "metadata": {},
   "outputs": [
    {
     "name": "stdout",
     "output_type": "stream",
     "text": [
      "Accuracy in testing data using KNN for k= 1 :  0.77\n",
      "Error in testing data using KNN for k= 1 :  0.22999999999999998\n",
      "\n",
      "\n",
      "Accuracy in testing data using KNN for k= 3 :  0.88\n",
      "Error in testing data using KNN for k= 3 :  0.12\n",
      "\n",
      "\n",
      "Accuracy in testing data using KNN for k= 5 :  0.87\n",
      "Error in testing data using KNN for k= 5 :  0.13\n",
      "\n",
      "\n",
      "Accuracy in testing data using KNN for k= 7 :  0.89\n",
      "Error in testing data using KNN for k= 7 :  0.10999999999999999\n",
      "\n",
      "\n",
      "Accuracy in testing data using KNN for k= 9 :  0.86\n",
      "Error in testing data using KNN for k= 9 :  0.14\n",
      "\n",
      "\n",
      "Accuracy in testing data using KNN for k= 11 :  0.82\n",
      "Error in testing data using KNN for k= 11 :  0.18000000000000005\n",
      "\n",
      "\n",
      "Accuracy in testing data using KNN for k= 13 :  0.86\n",
      "Error in testing data using KNN for k= 13 :  0.14\n",
      "\n",
      "\n",
      "Accuracy in testing data using KNN for k= 15 :  0.9\n",
      "Error in testing data using KNN for k= 15 :  0.09999999999999998\n",
      "\n",
      "\n"
     ]
    }
   ],
   "source": [
    "# d\n",
    "#Using existing package\n",
    "y_train = np.ravel(y_train)\n",
    "for k in range(1,17,2):\n",
    "    classifier = KNeighborsClassifier(n_neighbors=k)\n",
    "    classifier.fit(X_train, y_train)\n",
    "    #predictions \n",
    "    #y_pred_train_knn = classifier.predict(X_train)\n",
    "    y_pred_test_knn = classifier.predict(X_test)\n",
    "    #print(\"Accuracy in training data using KNN for k=\",i,\": \",metrics.accuracy_score(y_train, y_pred_train_knn))\n",
    "    #print(\"Error in training data using KNN for k=\",i,\": \",1-metrics.accuracy_score(y_train, y_pred_train_knn))\n",
    "    print(\"Accuracy in testing data using KNN for k=\",k,\": \",metrics.accuracy_score(y_test, y_pred_test_knn))\n",
    "    print(\"Error in testing data using KNN for k=\",k,\": \",1-metrics.accuracy_score(y_test, y_pred_test_knn))\n",
    "    print(\"\\n\")"
   ]
  },
  {
   "cell_type": "markdown",
   "metadata": {},
   "source": [
    "The result obtained using my own implementation of kNN is similar to those obtained using the package for different values of k. The accuracy increase till k=7, post which the accuracy decreases on increasing k."
   ]
  },
  {
   "cell_type": "markdown",
   "metadata": {},
   "source": [
    "## 3e"
   ]
  },
  {
   "cell_type": "markdown",
   "metadata": {},
   "source": [
    "The running time of kNN testing averaged over all the points in the testing set is printed along with problem 3c.\n"
   ]
  },
  {
   "cell_type": "markdown",
   "metadata": {},
   "source": [
    "\\pagebreak"
   ]
  },
  {
   "cell_type": "markdown",
   "metadata": {},
   "source": [
    "# Problem 4"
   ]
  },
  {
   "cell_type": "markdown",
   "metadata": {},
   "source": [
    "## 4a,b"
   ]
  },
  {
   "cell_type": "code",
   "execution_count": 34,
   "metadata": {},
   "outputs": [],
   "source": [
    "data = org_data.copy()\n"
   ]
  },
  {
   "cell_type": "code",
   "execution_count": 35,
   "metadata": {},
   "outputs": [
    {
     "name": "stdout",
     "output_type": "stream",
     "text": [
      "Average validation error using Logistic Regression for number of folds = 5 : 0.1408695652173913\n",
      "Average validation error using Logistic Regression for number of folds = 10 : 0.10934782608695652\n",
      "Average validation error using LDA for number of folds = 5 : 0.18391304347826087\n",
      "Average validation error using LDA for number of folds = 10 : 0.14804347826086955\n"
     ]
    }
   ],
   "source": [
    "def k_fold_CV(data,k_fold,classifier):\n",
    "    N = data.shape[0]\n",
    "    fold_size = int(N/k_fold)\n",
    "    start = 0\n",
    "    end = fold_size\n",
    "    error = 0\n",
    "    for k in range(k_fold):\n",
    "#         print(\"start\",start)\n",
    "#         print(\"end\",end)\n",
    "        test = data[start:end]\n",
    "        if start != 0:\n",
    "            train = data[0:start]\n",
    "            train = train.append(data[end:N],ignore_index = True)\n",
    "        else:    \n",
    "            train = data[end:N]\n",
    "#         print(\"test shape\",test.shape)\n",
    "#         print(\"train shape\",train.shape)\n",
    "#         print(\"\\n\")\n",
    "        X_train, X_test, y_train, y_test = preprocessing_data(train,test)\n",
    "#         print(\"y_train shape\",y_train.shape)\n",
    "#         print(\"y_test shape\", y_test.shape)\n",
    "        if classifier == \"LDA\":\n",
    "            model = LDA(X_train,y_train)\n",
    "        elif classifier == \"Logistic Regression\":\n",
    "            model = Log_Reg(X_train, y_train)\n",
    "        y_pred = model.predict(X_test)\n",
    "#         print(\"Error in testing set using\",model,\"for fold\",k,\":\",1 - metrics.accuracy_score(y_test, y_pred))\n",
    "        error += 1 - metrics.accuracy_score(y_test, y_pred)\n",
    "        \n",
    "        start = start + fold_size\n",
    "        if end + fold_size > N:\n",
    "            end = N\n",
    "        else:\n",
    "            end = end + fold_size\n",
    "    print(\"Average validation error using\",classifier,\"for number of folds =\",k_fold,\":\", error/k_fold)    \n",
    "    return (error/k_fold)\n",
    "   \n",
    "    \n",
    "def LDA(X,y):\n",
    "    lda = LinearDiscriminantAnalysis()\n",
    "    lda.fit(X,y)\n",
    "    return lda\n",
    "\n",
    "def Log_Reg(X,y):\n",
    "    log_reg = LogisticRegression()\n",
    "    log_reg.fit(X,y)\n",
    "    return log_reg\n",
    "\n",
    "def preprocessing_data(train,test):\n",
    "    X_train = train.iloc[:,0:-1]\n",
    "    y_train = train[\"class\"]\n",
    "    X_test = test.iloc[:,0:-1]\n",
    "    y_test = test[\"class\"]\n",
    "    ss_scaler = preprocessing.StandardScaler()\n",
    "    X_train = pd.DataFrame(ss_scaler.fit_transform(X_train),columns=X_train.columns)\n",
    "    X_test = pd.DataFrame(ss_scaler.transform(X_test),columns = X_test.columns) \n",
    "    return X_train, X_test, y_train, y_test\n",
    "\n",
    "    \n",
    "#k_fold_CV(data,5,\"LDA\") \n",
    "classifiers = [\"Logistic Regression\", \"LDA\"]\n",
    "for model in classifiers:\n",
    "    for k in [5,10]:\n",
    "        k_fold_CV(data,k,model)\n",
    "    "
   ]
  },
  {
   "cell_type": "markdown",
   "metadata": {},
   "source": [
    "## 4c"
   ]
  },
  {
   "cell_type": "markdown",
   "metadata": {},
   "source": [
    "From the above run, we can say that the Logistic Regression works better than LDA as the average validation error for k=5 using logistic regression is 0.140 and using LDA is 0.183. And the trend is similar for k = 10, however the average validation error decreases as the value of k increases from 5 to 10 for both the classifiers."
   ]
  },
  {
   "cell_type": "markdown",
   "metadata": {},
   "source": [
    "\\pagebreak"
   ]
  },
  {
   "cell_type": "markdown",
   "metadata": {},
   "source": [
    "# Problem 6"
   ]
  },
  {
   "cell_type": "markdown",
   "metadata": {},
   "source": [
    "## 6a"
   ]
  },
  {
   "cell_type": "code",
   "execution_count": 36,
   "metadata": {},
   "outputs": [
    {
     "name": "stdout",
     "output_type": "stream",
     "text": [
      "Recieve A in Class with probability: 0.3775406687981454\n"
     ]
    }
   ],
   "source": [
    "def sigmoid(z):\n",
    "    return 1 / (1 + np.exp(-z))\n",
    "\n",
    "theta = np.matrix('-6;0.05;1')\n",
    "\n",
    "X = np.matrix('1;40;3.5')\n",
    "\n",
    "temp = np.transpose(theta).dot(X)\n",
    "\n",
    "prob = sigmoid(temp)\n",
    "\n",
    "print(\"Recieve A in Class with probability:\", prob.A1[0])\n",
    "\n"
   ]
  }
 ],
 "metadata": {
  "kernelspec": {
   "display_name": "Python 3",
   "language": "python",
   "name": "python3"
  },
  "language_info": {
   "codemirror_mode": {
    "name": "ipython",
    "version": 3
   },
   "file_extension": ".py",
   "mimetype": "text/x-python",
   "name": "python",
   "nbconvert_exporter": "python",
   "pygments_lexer": "ipython3",
   "version": "3.7.4"
  }
 },
 "nbformat": 4,
 "nbformat_minor": 2
}
