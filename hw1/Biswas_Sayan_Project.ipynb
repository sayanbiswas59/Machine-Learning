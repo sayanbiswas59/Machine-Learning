{
 "cells": [
  {
   "cell_type": "code",
   "execution_count": 13,
   "metadata": {},
   "outputs": [
    {
     "data": {
      "text/html": [
       "<div>\n",
       "<style scoped>\n",
       "    .dataframe tbody tr th:only-of-type {\n",
       "        vertical-align: middle;\n",
       "    }\n",
       "\n",
       "    .dataframe tbody tr th {\n",
       "        vertical-align: top;\n",
       "    }\n",
       "\n",
       "    .dataframe thead th {\n",
       "        text-align: right;\n",
       "    }\n",
       "</style>\n",
       "<table border=\"1\" class=\"dataframe\">\n",
       "  <thead>\n",
       "    <tr style=\"text-align: right;\">\n",
       "      <th></th>\n",
       "      <th>Feature</th>\n",
       "      <th>Average</th>\n",
       "      <th>Min</th>\n",
       "      <th>Max</th>\n",
       "      <th>Variance</th>\n",
       "    </tr>\n",
       "  </thead>\n",
       "  <tbody>\n",
       "    <tr>\n",
       "      <td>0</td>\n",
       "      <td>bedrooms</td>\n",
       "      <td>3.370842</td>\n",
       "      <td>0.0000</td>\n",
       "      <td>3.300000e+01</td>\n",
       "      <td>8.650150e-01</td>\n",
       "    </tr>\n",
       "    <tr>\n",
       "      <td>1</td>\n",
       "      <td>bathrooms</td>\n",
       "      <td>2.114757</td>\n",
       "      <td>0.0000</td>\n",
       "      <td>8.000000e+00</td>\n",
       "      <td>5.931513e-01</td>\n",
       "    </tr>\n",
       "    <tr>\n",
       "      <td>2</td>\n",
       "      <td>sqft_living</td>\n",
       "      <td>2079.899736</td>\n",
       "      <td>290.0000</td>\n",
       "      <td>1.354000e+04</td>\n",
       "      <td>8.435337e+05</td>\n",
       "    </tr>\n",
       "    <tr>\n",
       "      <td>3</td>\n",
       "      <td>sqft_lot</td>\n",
       "      <td>15106.967566</td>\n",
       "      <td>520.0000</td>\n",
       "      <td>1.651359e+06</td>\n",
       "      <td>1.715659e+09</td>\n",
       "    </tr>\n",
       "    <tr>\n",
       "      <td>4</td>\n",
       "      <td>floors</td>\n",
       "      <td>1.494309</td>\n",
       "      <td>1.0000</td>\n",
       "      <td>3.500000e+00</td>\n",
       "      <td>2.915880e-01</td>\n",
       "    </tr>\n",
       "    <tr>\n",
       "      <td>5</td>\n",
       "      <td>waterfront</td>\n",
       "      <td>0.007542</td>\n",
       "      <td>0.0000</td>\n",
       "      <td>1.000000e+00</td>\n",
       "      <td>7.485226e-03</td>\n",
       "    </tr>\n",
       "    <tr>\n",
       "      <td>6</td>\n",
       "      <td>view</td>\n",
       "      <td>0.234303</td>\n",
       "      <td>0.0000</td>\n",
       "      <td>4.000000e+00</td>\n",
       "      <td>5.872426e-01</td>\n",
       "    </tr>\n",
       "    <tr>\n",
       "      <td>7</td>\n",
       "      <td>condition</td>\n",
       "      <td>3.409430</td>\n",
       "      <td>1.0000</td>\n",
       "      <td>5.000000e+00</td>\n",
       "      <td>4.234665e-01</td>\n",
       "    </tr>\n",
       "    <tr>\n",
       "      <td>8</td>\n",
       "      <td>grade</td>\n",
       "      <td>7.656873</td>\n",
       "      <td>1.0000</td>\n",
       "      <td>1.300000e+01</td>\n",
       "      <td>1.381703e+00</td>\n",
       "    </tr>\n",
       "    <tr>\n",
       "      <td>9</td>\n",
       "      <td>sqft_above</td>\n",
       "      <td>1788.390691</td>\n",
       "      <td>290.0000</td>\n",
       "      <td>9.410000e+03</td>\n",
       "      <td>6.857347e+05</td>\n",
       "    </tr>\n",
       "    <tr>\n",
       "      <td>10</td>\n",
       "      <td>sqft_basement</td>\n",
       "      <td>291.509045</td>\n",
       "      <td>0.0000</td>\n",
       "      <td>4.820000e+03</td>\n",
       "      <td>1.958727e+05</td>\n",
       "    </tr>\n",
       "    <tr>\n",
       "      <td>11</td>\n",
       "      <td>yr_built</td>\n",
       "      <td>1971.005136</td>\n",
       "      <td>1900.0000</td>\n",
       "      <td>2.015000e+03</td>\n",
       "      <td>8.627973e+02</td>\n",
       "    </tr>\n",
       "    <tr>\n",
       "      <td>12</td>\n",
       "      <td>yr_renovated</td>\n",
       "      <td>84.402258</td>\n",
       "      <td>0.0000</td>\n",
       "      <td>2.015000e+03</td>\n",
       "      <td>1.613462e+05</td>\n",
       "    </tr>\n",
       "    <tr>\n",
       "      <td>13</td>\n",
       "      <td>lat</td>\n",
       "      <td>47.560053</td>\n",
       "      <td>47.1559</td>\n",
       "      <td>4.777760e+01</td>\n",
       "      <td>1.919990e-02</td>\n",
       "    </tr>\n",
       "    <tr>\n",
       "      <td>14</td>\n",
       "      <td>long</td>\n",
       "      <td>-122.213896</td>\n",
       "      <td>-122.5190</td>\n",
       "      <td>-1.213150e+02</td>\n",
       "      <td>1.983262e-02</td>\n",
       "    </tr>\n",
       "    <tr>\n",
       "      <td>15</td>\n",
       "      <td>sqft_living15</td>\n",
       "      <td>1986.552492</td>\n",
       "      <td>399.0000</td>\n",
       "      <td>6.210000e+03</td>\n",
       "      <td>4.697612e+05</td>\n",
       "    </tr>\n",
       "    <tr>\n",
       "      <td>16</td>\n",
       "      <td>sqft_lot15</td>\n",
       "      <td>12768.455652</td>\n",
       "      <td>651.0000</td>\n",
       "      <td>8.712000e+05</td>\n",
       "      <td>7.455182e+08</td>\n",
       "    </tr>\n",
       "  </tbody>\n",
       "</table>\n",
       "</div>"
      ],
      "text/plain": [
       "          Feature       Average        Min           Max      Variance\n",
       "0        bedrooms      3.370842     0.0000  3.300000e+01  8.650150e-01\n",
       "1       bathrooms      2.114757     0.0000  8.000000e+00  5.931513e-01\n",
       "2     sqft_living   2079.899736   290.0000  1.354000e+04  8.435337e+05\n",
       "3        sqft_lot  15106.967566   520.0000  1.651359e+06  1.715659e+09\n",
       "4          floors      1.494309     1.0000  3.500000e+00  2.915880e-01\n",
       "5      waterfront      0.007542     0.0000  1.000000e+00  7.485226e-03\n",
       "6            view      0.234303     0.0000  4.000000e+00  5.872426e-01\n",
       "7       condition      3.409430     1.0000  5.000000e+00  4.234665e-01\n",
       "8           grade      7.656873     1.0000  1.300000e+01  1.381703e+00\n",
       "9      sqft_above   1788.390691   290.0000  9.410000e+03  6.857347e+05\n",
       "10  sqft_basement    291.509045     0.0000  4.820000e+03  1.958727e+05\n",
       "11       yr_built   1971.005136  1900.0000  2.015000e+03  8.627973e+02\n",
       "12   yr_renovated     84.402258     0.0000  2.015000e+03  1.613462e+05\n",
       "13            lat     47.560053    47.1559  4.777760e+01  1.919990e-02\n",
       "14           long   -122.213896  -122.5190 -1.213150e+02  1.983262e-02\n",
       "15  sqft_living15   1986.552492   399.0000  6.210000e+03  4.697612e+05\n",
       "16     sqft_lot15  12768.455652   651.0000  8.712000e+05  7.455182e+08"
      ]
     },
     "execution_count": 13,
     "metadata": {},
     "output_type": "execute_result"
    }
   ],
   "source": [
    "#Loading the data set\n",
    "\n",
    "import pandas as pd\n",
    "\n",
    "cols = list(pd.read_csv(\"kc_house_data.csv\", nrows =1))\n",
    "data = pd.read_csv(\"kc_house_data.csv\", usecols =[i for i in cols if i not in [\"id\",\"date\",\"zipcode\"]])\n",
    "\n",
    "data1 = data.drop(columns=['price'])\n",
    "\n",
    "dict1={}\n",
    "\n",
    "#computing  the average value, the min and max and variance values:\n",
    "\n",
    "for col in data1.columns:\n",
    "    if not \"Feature\" in dict1:\n",
    "        dict1[\"Feature\"] = [col]\n",
    "    else:\n",
    "        dict1[\"Feature\"].append(col)\n",
    "    if not \"Average\" in dict1:\n",
    "        dict1[\"Average\"] = [data1[col].mean()]\n",
    "    else:\n",
    "        dict1[\"Average\"].append(data1[col].mean())\n",
    "    if not \"Min\" in dict1:\n",
    "        dict1[\"Min\"] = [data1[col].min()]\n",
    "    else:\n",
    "        dict1[\"Min\"].append(data1[col].min())\n",
    "    if not \"Max\" in dict1:\n",
    "        dict1[\"Max\"] = [data1[col].max()]\n",
    "    else:\n",
    "        dict1[\"Max\"].append(data1[col].max()) \n",
    "    if not \"Variance\" in dict1:\n",
    "        dict1[\"Variance\"] = [data1[col].var()]\n",
    "    else:\n",
    "        dict1[\"Variance\"].append(data1[col].var())\n",
    "        \n",
    "df = pd.DataFrame(dict1)\n",
    "df    \n",
    "    \n",
    "\n",
    "\n"
   ]
  },
  {
   "cell_type": "code",
   "execution_count": 14,
   "metadata": {},
   "outputs": [
    {
     "data": {
      "text/html": [
       "<div>\n",
       "<style scoped>\n",
       "    .dataframe tbody tr th:only-of-type {\n",
       "        vertical-align: middle;\n",
       "    }\n",
       "\n",
       "    .dataframe tbody tr th {\n",
       "        vertical-align: top;\n",
       "    }\n",
       "\n",
       "    .dataframe thead th {\n",
       "        text-align: right;\n",
       "    }\n",
       "</style>\n",
       "<table border=\"1\" class=\"dataframe\">\n",
       "  <thead>\n",
       "    <tr style=\"text-align: right;\">\n",
       "      <th></th>\n",
       "      <th>Feature</th>\n",
       "      <th>Average</th>\n",
       "      <th>Min</th>\n",
       "      <th>Max</th>\n",
       "      <th>Variance</th>\n",
       "    </tr>\n",
       "  </thead>\n",
       "  <tbody>\n",
       "    <tr>\n",
       "      <td>5</td>\n",
       "      <td>waterfront</td>\n",
       "      <td>0.007542</td>\n",
       "      <td>0.0</td>\n",
       "      <td>1.0</td>\n",
       "      <td>0.007485</td>\n",
       "    </tr>\n",
       "  </tbody>\n",
       "</table>\n",
       "</div>"
      ],
      "text/plain": [
       "      Feature   Average  Min  Max  Variance\n",
       "5  waterfront  0.007542  0.0  1.0  0.007485"
      ]
     },
     "execution_count": 14,
     "metadata": {},
     "output_type": "execute_result"
    }
   ],
   "source": [
    "## Feaure with Minimum Variance\n",
    "df.loc[df['Variance'] == df[\"Variance\"].min()]"
   ]
  },
  {
   "cell_type": "code",
   "execution_count": 15,
   "metadata": {},
   "outputs": [
    {
     "data": {
      "text/html": [
       "<div>\n",
       "<style scoped>\n",
       "    .dataframe tbody tr th:only-of-type {\n",
       "        vertical-align: middle;\n",
       "    }\n",
       "\n",
       "    .dataframe tbody tr th {\n",
       "        vertical-align: top;\n",
       "    }\n",
       "\n",
       "    .dataframe thead th {\n",
       "        text-align: right;\n",
       "    }\n",
       "</style>\n",
       "<table border=\"1\" class=\"dataframe\">\n",
       "  <thead>\n",
       "    <tr style=\"text-align: right;\">\n",
       "      <th></th>\n",
       "      <th>Feature</th>\n",
       "      <th>Average</th>\n",
       "      <th>Min</th>\n",
       "      <th>Max</th>\n",
       "      <th>Variance</th>\n",
       "    </tr>\n",
       "  </thead>\n",
       "  <tbody>\n",
       "    <tr>\n",
       "      <td>3</td>\n",
       "      <td>sqft_lot</td>\n",
       "      <td>15106.967566</td>\n",
       "      <td>520.0</td>\n",
       "      <td>1651359.0</td>\n",
       "      <td>1.715659e+09</td>\n",
       "    </tr>\n",
       "  </tbody>\n",
       "</table>\n",
       "</div>"
      ],
      "text/plain": [
       "    Feature       Average    Min        Max      Variance\n",
       "3  sqft_lot  15106.967566  520.0  1651359.0  1.715659e+09"
      ]
     },
     "execution_count": 15,
     "metadata": {},
     "output_type": "execute_result"
    }
   ],
   "source": [
    "## Feature with Maximum Variance\n",
    "df.loc[df['Variance'] == df[\"Variance\"].max()]"
   ]
  },
  {
   "cell_type": "code",
   "execution_count": 26,
   "metadata": {},
   "outputs": [
    {
     "data": {
      "text/html": [
       "<div>\n",
       "<style scoped>\n",
       "    .dataframe tbody tr th:only-of-type {\n",
       "        vertical-align: middle;\n",
       "    }\n",
       "\n",
       "    .dataframe tbody tr th {\n",
       "        vertical-align: top;\n",
       "    }\n",
       "\n",
       "    .dataframe thead th {\n",
       "        text-align: right;\n",
       "    }\n",
       "</style>\n",
       "<table border=\"1\" class=\"dataframe\">\n",
       "  <thead>\n",
       "    <tr style=\"text-align: right;\">\n",
       "      <th></th>\n",
       "      <th>bedrooms</th>\n",
       "      <th>bathrooms</th>\n",
       "      <th>sqft_living</th>\n",
       "      <th>sqft_lot</th>\n",
       "      <th>floors</th>\n",
       "      <th>waterfront</th>\n",
       "      <th>view</th>\n",
       "      <th>condition</th>\n",
       "      <th>grade</th>\n",
       "      <th>sqft_above</th>\n",
       "      <th>sqft_basement</th>\n",
       "      <th>yr_built</th>\n",
       "      <th>yr_renovated</th>\n",
       "      <th>lat</th>\n",
       "      <th>long</th>\n",
       "      <th>sqft_living15</th>\n",
       "      <th>sqft_lot15</th>\n",
       "    </tr>\n",
       "  </thead>\n",
       "  <tbody>\n",
       "    <tr>\n",
       "      <td>price</td>\n",
       "      <td>0.30835</td>\n",
       "      <td>0.525138</td>\n",
       "      <td>0.702035</td>\n",
       "      <td>0.089661</td>\n",
       "      <td>0.256794</td>\n",
       "      <td>0.266369</td>\n",
       "      <td>0.397293</td>\n",
       "      <td>0.036362</td>\n",
       "      <td>0.667434</td>\n",
       "      <td>0.605567</td>\n",
       "      <td>0.323816</td>\n",
       "      <td>0.054012</td>\n",
       "      <td>0.126434</td>\n",
       "      <td>0.307003</td>\n",
       "      <td>0.021626</td>\n",
       "      <td>0.585379</td>\n",
       "      <td>0.082447</td>\n",
       "    </tr>\n",
       "  </tbody>\n",
       "</table>\n",
       "</div>"
      ],
      "text/plain": [
       "       bedrooms  bathrooms  sqft_living  sqft_lot    floors  waterfront  \\\n",
       "price   0.30835   0.525138     0.702035  0.089661  0.256794    0.266369   \n",
       "\n",
       "           view  condition     grade  sqft_above  sqft_basement  yr_built  \\\n",
       "price  0.397293   0.036362  0.667434    0.605567       0.323816  0.054012   \n",
       "\n",
       "       yr_renovated       lat      long  sqft_living15  sqft_lot15  \n",
       "price      0.126434  0.307003  0.021626       0.585379    0.082447  "
      ]
     },
     "execution_count": 26,
     "metadata": {},
     "output_type": "execute_result"
    }
   ],
   "source": [
    "#Correlation of the features with response\n",
    "corr_data = data.corr(method=\"pearson\")\n",
    "corr_data.iloc[0:1,1:]"
   ]
  },
  {
   "cell_type": "code",
   "execution_count": 22,
   "metadata": {},
   "outputs": [
    {
     "name": "stdout",
     "output_type": "stream",
     "text": [
      "Positive Correlation: ['bedrooms', 'bathrooms', 'sqft_living', 'sqft_lot', 'floors', 'waterfront', 'view', 'condition', 'grade', 'sqft_above', 'sqft_basement', 'yr_built', 'yr_renovated', 'lat', 'long', 'sqft_living15', 'sqft_lot15']\n",
      "Negative Correlation: []\n"
     ]
    }
   ],
   "source": [
    "# Positive and negative correlation\n",
    "\n",
    "temp = corr_data.iloc[0:1,1:]\n",
    "positive_correlation =[]\n",
    "negative_correlation = []\n",
    "\n",
    "for i in temp:\n",
    "    coeff = temp[i]\n",
    "    if coeff[0]> 0 :\n",
    "        positive_correlation.append(i)\n",
    "    else:\n",
    "        negative_correlation.append(i)\n",
    "        \n",
    "print(\"Positive Correlation:\", positive_correlation)\n",
    "print(\"Negative Correlation:\", negative_correlation)\n",
    "        \n",
    "        "
   ]
  },
  {
   "cell_type": "code",
   "execution_count": 25,
   "metadata": {},
   "outputs": [
    {
     "name": "stdout",
     "output_type": "stream",
     "text": [
      "Maximum correlated feature: sqft_living\n"
     ]
    }
   ],
   "source": [
    "# Maximum correlated feature\n",
    "\n",
    "temp = corr_data.iloc[0:1,1:]\n",
    "max_corr_feature = temp.idxmax(axis=1)[0]\n",
    "max_corr_value = temp.max(axis=1)[0]\n",
    "\n",
    "\n",
    "print(\"Maximum correlated feature: \"+ max_corr_feature)        \n"
   ]
  },
  {
   "cell_type": "code",
   "execution_count": 23,
   "metadata": {},
   "outputs": [
    {
     "data": {
      "image/png": "[encoded data removed]",
      "text/plain": [
       "<Figure size 432x288 with 1 Axes>"
      ]
     },
     "metadata": {
      "needs_background": "light"
     },
     "output_type": "display_data"
    },
    {
     "data": {
      "image/png": "[encoded data removed]",
      "text/plain": [
       "<Figure size 432x288 with 1 Axes>"
      ]
     },
     "metadata": {
      "needs_background": "light"
     },
     "output_type": "display_data"
    },
    {
     "data": {
      "image/png": "[encoded data removed]",
      "text/plain": [
       "<Figure size 432x288 with 1 Axes>"
      ]
     },
     "metadata": {
      "needs_background": "light"
     },
     "output_type": "display_data"
    }
   ],
   "source": [
    "# importing the required module\n",
    "\n",
    "import matplotlib.pyplot as plt\n",
    "import numpy as np\n",
    "mu, sigma = 0,2\n",
    "np.random.seed(1)\n",
    "X = np.random.normal(mu,sigma,50)\n",
    "for i in [0,1,4]:\n",
    "    e = np.random.normal(mu,i,50)\n",
    "    Y = 3 + 2*X + e\n",
    "    plt.scatter(X,Y)\n",
    "    title = \"Scatter plot Y v/s X with sigma of error = \" + str(i)\n",
    "    plt.title(title)\n",
    "    plt.xlabel('X')\n",
    "    plt.ylabel('Y')\n",
    "    plt.show()"
   ]
  },
  {
   "cell_type": "code",
   "execution_count": 24,
   "metadata": {},
   "outputs": [
    {
     "name": "stdout",
     "output_type": "stream",
     "text": [
      "Pearsons correlation when sigma of error is 0  : 1.000\n",
      "Pearsons correlation when sigma of error is 1  : 0.976\n",
      "Pearsons correlation when sigma of error is 4  : 0.743\n"
     ]
    }
   ],
   "source": [
    "# Correlation for different values of sigma of error\n",
    "\n",
    "from scipy.stats import pearsonr\n",
    "mu, sigma = 0,2\n",
    "np.random.seed(1)\n",
    "X = np.random.normal(mu,sigma,50)\n",
    "\n",
    "for i in [0,1,4]:\n",
    "    e = np.random.normal(mu,i,50)\n",
    "    Y = 3 + 2*X + e\n",
    "    # calculate Pearson's correlation\n",
    "    corr, _ = pearsonr(X, Y)\n",
    "    print('Pearsons correlation when sigma of error is %s  : %.3f' %(i,corr))\n",
    "\n"
   ]
  },
  {
   "cell_type": "code",
   "execution_count": null,
   "metadata": {},
   "outputs": [],
   "source": []
  }
 ],
 "metadata": {
  "kernelspec": {
   "display_name": "Python 3",
   "language": "python",
   "name": "python3"
  },
  "language_info": {
   "codemirror_mode": {
    "name": "ipython",
    "version": 3
   },
   "file_extension": ".py",
   "mimetype": "text/x-python",
   "name": "python",
   "nbconvert_exporter": "python",
   "pygments_lexer": "ipython3",
   "version": "3.7.4"
  }
 },
 "nbformat": 4,
 "nbformat_minor": 2
}
