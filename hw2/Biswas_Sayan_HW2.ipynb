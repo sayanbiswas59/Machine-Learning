{
 "cells": [
  {
   "cell_type": "code",
   "execution_count": 1,
   "metadata": {
    "tags": [
     "hide_input"
    ]
   },
   "outputs": [],
   "source": [
    "import pandas as pd\n",
    "import numpy as np\n",
    "from sklearn import metrics\n",
    "from sklearn import preprocessing\n",
    "from sklearn.linear_model import LinearRegression\n",
    "import matplotlib.pyplot as plt\n",
    "import math\n",
    "import re"
   ]
  },
  {
   "cell_type": "markdown",
   "metadata": {},
   "source": [
    "# Problem 1 "
   ]
  },
  {
   "cell_type": "markdown",
   "metadata": {},
   "source": [
    "## 1a"
   ]
  },
  {
   "cell_type": "code",
   "execution_count": 2,
   "metadata": {
    "tags": [
     "hide_input"
    ]
   },
   "outputs": [
    {
     "name": "stdout",
     "output_type": "stream",
     "text": [
      "Intercept :  -23088898.60853133\n"
     ]
    },
    {
     "data": {
      "text/html": [
       "<div>\n",
       "<style scoped>\n",
       "    .dataframe tbody tr th:only-of-type {\n",
       "        vertical-align: middle;\n",
       "    }\n",
       "\n",
       "    .dataframe tbody tr th {\n",
       "        vertical-align: top;\n",
       "    }\n",
       "\n",
       "    .dataframe thead th {\n",
       "        text-align: right;\n",
       "    }\n",
       "</style>\n",
       "<table border=\"1\" class=\"dataframe\">\n",
       "  <thead>\n",
       "    <tr style=\"text-align: right;\">\n",
       "      <th></th>\n",
       "      <th>Coefficients</th>\n",
       "    </tr>\n",
       "  </thead>\n",
       "  <tbody>\n",
       "    <tr>\n",
       "      <td>bedrooms</td>\n",
       "      <td>-14704.280497</td>\n",
       "    </tr>\n",
       "    <tr>\n",
       "      <td>bathrooms</td>\n",
       "      <td>25687.783987</td>\n",
       "    </tr>\n",
       "    <tr>\n",
       "      <td>sqft_living</td>\n",
       "      <td>83.084210</td>\n",
       "    </tr>\n",
       "    <tr>\n",
       "      <td>sqft_lot</td>\n",
       "      <td>0.375930</td>\n",
       "    </tr>\n",
       "    <tr>\n",
       "      <td>floors</td>\n",
       "      <td>15555.580988</td>\n",
       "    </tr>\n",
       "    <tr>\n",
       "      <td>waterfront</td>\n",
       "      <td>715535.170469</td>\n",
       "    </tr>\n",
       "    <tr>\n",
       "      <td>view</td>\n",
       "      <td>63027.898001</td>\n",
       "    </tr>\n",
       "    <tr>\n",
       "      <td>condition</td>\n",
       "      <td>18816.402756</td>\n",
       "    </tr>\n",
       "    <tr>\n",
       "      <td>grade</td>\n",
       "      <td>79534.602722</td>\n",
       "    </tr>\n",
       "    <tr>\n",
       "      <td>sqft_above</td>\n",
       "      <td>42.010495</td>\n",
       "    </tr>\n",
       "    <tr>\n",
       "      <td>sqft_basement</td>\n",
       "      <td>41.073715</td>\n",
       "    </tr>\n",
       "    <tr>\n",
       "      <td>yr_built</td>\n",
       "      <td>-2400.669330</td>\n",
       "    </tr>\n",
       "    <tr>\n",
       "      <td>yr_renovated</td>\n",
       "      <td>43.682942</td>\n",
       "    </tr>\n",
       "    <tr>\n",
       "      <td>lat</td>\n",
       "      <td>553505.032276</td>\n",
       "    </tr>\n",
       "    <tr>\n",
       "      <td>long</td>\n",
       "      <td>-7424.027121</td>\n",
       "    </tr>\n",
       "    <tr>\n",
       "      <td>sqft_living15</td>\n",
       "      <td>68.015792</td>\n",
       "    </tr>\n",
       "    <tr>\n",
       "      <td>sqft_lot15</td>\n",
       "      <td>-0.515528</td>\n",
       "    </tr>\n",
       "  </tbody>\n",
       "</table>\n",
       "</div>"
      ],
      "text/plain": [
       "                Coefficients\n",
       "bedrooms       -14704.280497\n",
       "bathrooms       25687.783987\n",
       "sqft_living        83.084210\n",
       "sqft_lot            0.375930\n",
       "floors          15555.580988\n",
       "waterfront     715535.170469\n",
       "view            63027.898001\n",
       "condition       18816.402756\n",
       "grade           79534.602722\n",
       "sqft_above         42.010495\n",
       "sqft_basement      41.073715\n",
       "yr_built        -2400.669330\n",
       "yr_renovated       43.682942\n",
       "lat            553505.032276\n",
       "long            -7424.027121\n",
       "sqft_living15      68.015792\n",
       "sqft_lot15         -0.515528"
      ]
     },
     "execution_count": 2,
     "metadata": {},
     "output_type": "execute_result"
    }
   ],
   "source": [
    "cols = list(pd.read_csv(\"train.csv\", nrows =1))\n",
    "train = pd.read_csv(\"train.csv\", usecols =[i for i in cols if i not in [\"id\",\"date\",\"zipcode\"]])\n",
    "train = train.drop(columns=['Unnamed: 0'])\n",
    "\n",
    "X_train = train.iloc[:,1:]\n",
    "Y_train = train.iloc[:,0:1]\n",
    "\n",
    "model_a = LinearRegression().fit(X_train, Y_train)\n",
    "coeff = pd.DataFrame(model_a.coef_.T,X_train.columns,columns=['Coefficients'])\n",
    "print(\"Intercept : \",model_a.intercept_[0])\n",
    "coeff"
   ]
  },
  {
   "cell_type": "code",
   "execution_count": 3,
   "metadata": {},
   "outputs": [
    {
     "name": "stdout",
     "output_type": "stream",
     "text": [
      "Mean Squared Error for train data using model_a: 31486167775.7949\n"
     ]
    }
   ],
   "source": [
    "Y_pred = model_a.predict(X_train)\n",
    "print('Mean Squared Error for train data using model_a:', metrics.mean_squared_error(Y_train, Y_pred))"
   ]
  },
  {
   "cell_type": "markdown",
   "metadata": {},
   "source": [
    "## 1b"
   ]
  },
  {
   "cell_type": "code",
   "execution_count": 4,
   "metadata": {},
   "outputs": [
    {
     "name": "stdout",
     "output_type": "stream",
     "text": [
      "Intercept :  3.086029186623574e-15\n"
     ]
    },
    {
     "data": {
      "text/html": [
       "<div>\n",
       "<style scoped>\n",
       "    .dataframe tbody tr th:only-of-type {\n",
       "        vertical-align: middle;\n",
       "    }\n",
       "\n",
       "    .dataframe tbody tr th {\n",
       "        vertical-align: top;\n",
       "    }\n",
       "\n",
       "    .dataframe thead th {\n",
       "        text-align: right;\n",
       "    }\n",
       "</style>\n",
       "<table border=\"1\" class=\"dataframe\">\n",
       "  <thead>\n",
       "    <tr style=\"text-align: right;\">\n",
       "      <th></th>\n",
       "      <th>Coefficients</th>\n",
       "    </tr>\n",
       "  </thead>\n",
       "  <tbody>\n",
       "    <tr>\n",
       "      <td>bedrooms</td>\n",
       "      <td>-0.036903</td>\n",
       "    </tr>\n",
       "    <tr>\n",
       "      <td>bathrooms</td>\n",
       "      <td>0.054602</td>\n",
       "    </tr>\n",
       "    <tr>\n",
       "      <td>sqft_living</td>\n",
       "      <td>0.167243</td>\n",
       "    </tr>\n",
       "    <tr>\n",
       "      <td>sqft_lot</td>\n",
       "      <td>0.032070</td>\n",
       "    </tr>\n",
       "    <tr>\n",
       "      <td>floors</td>\n",
       "      <td>0.023706</td>\n",
       "    </tr>\n",
       "    <tr>\n",
       "      <td>waterfront</td>\n",
       "      <td>0.187856</td>\n",
       "    </tr>\n",
       "    <tr>\n",
       "      <td>view</td>\n",
       "      <td>0.142050</td>\n",
       "    </tr>\n",
       "    <tr>\n",
       "      <td>condition</td>\n",
       "      <td>0.038207</td>\n",
       "    </tr>\n",
       "    <tr>\n",
       "      <td>grade</td>\n",
       "      <td>0.271814</td>\n",
       "    </tr>\n",
       "    <tr>\n",
       "      <td>sqft_above</td>\n",
       "      <td>0.142315</td>\n",
       "    </tr>\n",
       "    <tr>\n",
       "      <td>sqft_basement</td>\n",
       "      <td>0.079975</td>\n",
       "    </tr>\n",
       "    <tr>\n",
       "      <td>yr_built</td>\n",
       "      <td>-0.199350</td>\n",
       "    </tr>\n",
       "    <tr>\n",
       "      <td>yr_renovated</td>\n",
       "      <td>0.050900</td>\n",
       "    </tr>\n",
       "    <tr>\n",
       "      <td>lat</td>\n",
       "      <td>0.230980</td>\n",
       "    </tr>\n",
       "    <tr>\n",
       "      <td>long</td>\n",
       "      <td>-0.003051</td>\n",
       "    </tr>\n",
       "    <tr>\n",
       "      <td>sqft_living15</td>\n",
       "      <td>0.134321</td>\n",
       "    </tr>\n",
       "    <tr>\n",
       "      <td>sqft_lot15</td>\n",
       "      <td>-0.038106</td>\n",
       "    </tr>\n",
       "  </tbody>\n",
       "</table>\n",
       "</div>"
      ],
      "text/plain": [
       "               Coefficients\n",
       "bedrooms          -0.036903\n",
       "bathrooms          0.054602\n",
       "sqft_living        0.167243\n",
       "sqft_lot           0.032070\n",
       "floors             0.023706\n",
       "waterfront         0.187856\n",
       "view               0.142050\n",
       "condition          0.038207\n",
       "grade              0.271814\n",
       "sqft_above         0.142315\n",
       "sqft_basement      0.079975\n",
       "yr_built          -0.199350\n",
       "yr_renovated       0.050900\n",
       "lat                0.230980\n",
       "long              -0.003051\n",
       "sqft_living15      0.134321\n",
       "sqft_lot15        -0.038106"
      ]
     },
     "execution_count": 4,
     "metadata": {},
     "output_type": "execute_result"
    }
   ],
   "source": [
    "ss_scaler = preprocessing.StandardScaler()\n",
    "train_col = train.columns\n",
    "scaled_data = pd.DataFrame(ss_scaler.fit_transform(train.values),columns = train_col)\n",
    "data = scaled_data.copy()\n",
    "X_scaled = data.iloc[:,1:]\n",
    "Y_scaled = data[[\"price\"]]\n",
    "# model_b = LinearRegression().fit(X_scaled, Y_scaled)\n",
    "\n",
    "model_b = LinearRegression().fit(X_scaled, Y_scaled)\n",
    "coeff = pd.DataFrame(model_b.coef_.T,X_scaled.columns,columns=['Coefficients'])\n",
    "print(\"Intercept : \",model_b.intercept_[0])\n",
    "coeff"
   ]
  },
  {
   "cell_type": "code",
   "execution_count": 5,
   "metadata": {},
   "outputs": [
    {
     "name": "stdout",
     "output_type": "stream",
     "text": [
      "Mean Squared Error for training data using model_b: 0.2734665681293983\n"
     ]
    }
   ],
   "source": [
    "Y_pred_scaled = model_b.predict(X_scaled)\n",
    "print('Mean Squared Error for training data using model_b:', metrics.mean_squared_error(Y_scaled, Y_pred_scaled))"
   ]
  },
  {
   "cell_type": "markdown",
   "metadata": {},
   "source": [
    "## 1c"
   ]
  },
  {
   "cell_type": "code",
   "execution_count": 6,
   "metadata": {},
   "outputs": [
    {
     "name": "stdout",
     "output_type": "stream",
     "text": [
      "Mean Squared Error for test data using model_a: 57628154705.675156\n"
     ]
    }
   ],
   "source": [
    "cols = list(pd.read_csv(\"test.csv\", nrows =1))\n",
    "test = pd.read_csv(\"test.csv\", usecols =[i for i in cols if i not in [\"id\",\"date\",\"zipcode\"]])\n",
    "test = test.iloc[:,1:]\n",
    "X_test = test.iloc[:,1:]\n",
    "Y_test = test.iloc[:,0:1]\n",
    "Y_pred_test = model_a.predict(X_test)\n",
    "print('Mean Squared Error for test data using model_a:', metrics.mean_squared_error(Y_test, Y_pred_test))"
   ]
  },
  {
   "cell_type": "code",
   "execution_count": 7,
   "metadata": {},
   "outputs": [
    {
     "name": "stdout",
     "output_type": "stream",
     "text": [
      "Mean Squared Error for test data using model_b: 0.5005173639170148\n"
     ]
    }
   ],
   "source": [
    "test_col = test.columns\n",
    "scaled_data_test = pd.DataFrame(ss_scaler.transform(test.values),columns=test_col)\n",
    "X_test_scaled = scaled_data_test.iloc[:,1:].values\n",
    "Y_test_scaled = scaled_data_test.iloc[:,0:1].values\n",
    "Y_pred_test_scaled = model_b.predict(X_test_scaled)\n",
    "print('Mean Squared Error for test data using model_b:', metrics.mean_squared_error(Y_test_scaled, Y_pred_test_scaled))"
   ]
  },
  {
   "cell_type": "markdown",
   "metadata": {},
   "source": [
    "## 1d"
   ]
  },
  {
   "cell_type": "markdown",
   "metadata": {},
   "source": [
    "The coefficients obtained after learning from the unscaled data cannot be compared as they are in different units of measurements respectively. However after feature scaling of the training data, the coefficients can be compared to one another as the features where brought to the same scale before training. The MSE obtained from the unscaled data is a large number and not very intuitive compared to the MSE obtained from the test data to be compared. The features grade, latitude, view, waterfront, sqft_living,sqft_living15,sqft_above and yr_built mostly contribute to the linear regression model based on the coefficients. "
   ]
  },
  {
   "cell_type": "code",
   "execution_count": 8,
   "metadata": {},
   "outputs": [
    {
     "name": "stdout",
     "output_type": "stream",
     "text": [
      "coefficient of determination: 0.6543560876120955\n"
     ]
    }
   ],
   "source": [
    "r_squared= metrics.r2_score(Y_test_scaled, Y_pred_test_scaled)\n",
    "print('coefficient of determination:', r_squared)"
   ]
  },
  {
   "cell_type": "markdown",
   "metadata": {},
   "source": [
    "Based on the R-Squared error, 65.4% of the variation in y can be explained by the dependence on features using the regression model"
   ]
  },
  {
   "cell_type": "markdown",
   "metadata": {},
   "source": [
    "The model error is 0.5005173639170148."
   ]
  },
  {
   "cell_type": "markdown",
   "metadata": {},
   "source": [
    "# Problem 2"
   ]
  },
  {
   "cell_type": "markdown",
   "metadata": {},
   "source": [
    "## 2 a,b "
   ]
  },
  {
   "cell_type": "code",
   "execution_count": 9,
   "metadata": {},
   "outputs": [],
   "source": [
    "def ClosedFormSoln(X, Y):\n",
    "    if 'x0' not in X.columns:\n",
    "        x0 = np.ones((X.shape[0], 1), dtype=int)\n",
    "        X.insert(0, \"x0\", x0, True)\n",
    "    X=X.values\n",
    "    Y=Y.values\n",
    "    ## calculating the closed form solution to get parameters theta\n",
    "    X_transpose = np.transpose(X)\n",
    "    # calculating the dot product\n",
    "    X_transpose_dotp_x = X_transpose.dot(X)\n",
    "    # Calculating the inverse\n",
    "    temp_1 = np.linalg.pinv(X_transpose_dotp_x)\n",
    "\n",
    "    ##Calculating the second half i.e. (X transpose Y)\n",
    "    temp_2 = X_transpose.dot(Y)\n",
    "\n",
    "    ##Calculating theta\n",
    "    theta = temp_1.dot(temp_2)\n",
    "    return(theta)\n",
    "\n",
    "def predict_ClosedFormSoln(theta, X):\n",
    "    if 'x0' not in X.columns:\n",
    "        x0 = np.ones((X.shape[0], 1), dtype=int)\n",
    "        X.insert(0, \"x0\", x0, True)    \n",
    "    X=X.values\n",
    "    Y_pred = X.dot(theta)\n",
    "    return Y_pred"
   ]
  },
  {
   "cell_type": "code",
   "execution_count": 10,
   "metadata": {},
   "outputs": [],
   "source": [
    "#Initializing data\n",
    "train = scaled_data.copy()\n",
    "test = scaled_data_test.copy()\n",
    "# Y values\n",
    "Y_train = train[[\"price\"]]\n",
    "Y_test = test[[\"price\"]]\n",
    "X_train = train[[\"sqft_living\"]]\n",
    "X_test = test[[\"sqft_living\"]]"
   ]
  },
  {
   "cell_type": "code",
   "execution_count": 11,
   "metadata": {},
   "outputs": [],
   "source": [
    "# X_test can be a single sample or multiple sample (X_test = test[[\"sqft_living\"]])\n",
    "X_test = X_test.iloc[0:1,:]"
   ]
  },
  {
   "cell_type": "code",
   "execution_count": 12,
   "metadata": {},
   "outputs": [
    {
     "name": "stdout",
     "output_type": "stream",
     "text": [
      "Response for a new single-dimensional data point:  [-0.17565766]\n"
     ]
    }
   ],
   "source": [
    "theta_single_dim = ClosedFormSoln(X_train,Y_train)\n",
    "Y_pred = predict_ClosedFormSoln(theta_single_dim,X_test)\n",
    "print('Response for a new single-dimensional data point: ', Y_pred[0])"
   ]
  },
  {
   "cell_type": "code",
   "execution_count": 13,
   "metadata": {},
   "outputs": [],
   "source": [
    "#Initializing data\n",
    "train = scaled_data.copy()\n",
    "test = scaled_data_test.copy()\n",
    "# Y values\n",
    "Y_train = train[[\"price\"]]\n",
    "Y_test = test[[\"price\"]]\n",
    "X_train = train.iloc[:,1:]\n",
    "X_test = test.iloc[:,1:]"
   ]
  },
  {
   "cell_type": "code",
   "execution_count": 14,
   "metadata": {},
   "outputs": [],
   "source": [
    "# X_test can be a single sample here in the code snippet it takes the first row of the test data\n",
    "# or multiple rows using (X_test = test.iloc[:,1:])\n",
    "X_test = X_test.iloc[0:1,:]"
   ]
  },
  {
   "cell_type": "code",
   "execution_count": 15,
   "metadata": {},
   "outputs": [
    {
     "name": "stdout",
     "output_type": "stream",
     "text": [
      "Response for a new multi-dimensional data point:  [0.45660638]\n"
     ]
    }
   ],
   "source": [
    "theta_multi_dim = ClosedFormSoln(X_train,Y_train)\n",
    "Y_pred = predict_ClosedFormSoln(theta_multi_dim,X_test)\n",
    "print('Response for a new multi-dimensional data point: ', Y_pred[0])"
   ]
  },
  {
   "cell_type": "markdown",
   "metadata": {},
   "source": [
    "## 2c "
   ]
  },
  {
   "cell_type": "markdown",
   "metadata": {},
   "source": [
    "Since the closed form gives the global optimum hence the parameters obtained from the closed form solution are same as those obtained from the linear model implemented using the packages. This is the reason the MSE values obtained using the closed form implementation are similar to those obtained using the packages as seen from the output below."
   ]
  },
  {
   "cell_type": "code",
   "execution_count": 16,
   "metadata": {},
   "outputs": [],
   "source": [
    "#Initializing data\n",
    "train = scaled_data.copy()\n",
    "test = scaled_data_test.copy()\n",
    "# Y values\n",
    "Y_train = train[[\"price\"]]\n",
    "Y_test = test[[\"price\"]]\n",
    "X_train = train.iloc[:,1:]\n",
    "X_test = test.iloc[:,1:]"
   ]
  },
  {
   "cell_type": "code",
   "execution_count": 17,
   "metadata": {},
   "outputs": [
    {
     "name": "stdout",
     "output_type": "stream",
     "text": [
      "Mean Squared Error for training data using closed form solution: 0.2734665681293983\n",
      "Mean Squared Error for test data using closed form solution: 0.5005173639170145\n"
     ]
    }
   ],
   "source": [
    "Y_pred_train = predict_ClosedFormSoln(theta_multi_dim,X_train)\n",
    "Y_pred_test = predict_ClosedFormSoln(theta_multi_dim,X_test)\n",
    "print('Mean Squared Error for training data using closed form solution:', metrics.mean_squared_error(Y_train, Y_pred_train))\n",
    "print('Mean Squared Error for test data using closed form solution:', metrics.mean_squared_error(Y_test, Y_pred_test))"
   ]
  },
  {
   "cell_type": "markdown",
   "metadata": {},
   "source": [
    "# Problem 3"
   ]
  },
  {
   "cell_type": "markdown",
   "metadata": {},
   "source": [
    "## 3a"
   ]
  },
  {
   "cell_type": "code",
   "execution_count": 18,
   "metadata": {},
   "outputs": [],
   "source": [
    "# Compute Cost function is implemented to check if the cost is decreasing with iterations\n",
    "def ComputeCost(X,Y,theta):\n",
    "    N = Y.shape[0]\n",
    "    temp = X.dot(theta) - Y\n",
    "    cost = (1/N)*np.transpose(temp).dot(temp)\n",
    "    return cost\n",
    "\n",
    "# Method to compute the theta values using gradient descent\n",
    "def gradient_descent(X, Y, alpha, num_iters):\n",
    "    iters = num_iters\n",
    "    if 'x0' not in X.columns:\n",
    "        x0 = np.ones((X.shape[0], 1), dtype=int)\n",
    "        X.insert(0, \"x0\", x0, True)\n",
    "    # d is the number of features    \n",
    "    d = X_train.shape[1]\n",
    "    # Initializing theta with zeros\n",
    "    theta = np.zeros((d,1))    \n",
    "    X=X.values\n",
    "    Y=Y.values\n",
    "    diff_cost = 0\n",
    "    N = Y.shape[0]\n",
    "    theta_old = theta\n",
    "    #while diff_cost > 0.000001 or num_iters > 0\n",
    "    while num_iters > 0:\n",
    "        temp = np.transpose(X.dot(theta_old) - Y).dot(X)\n",
    "        theta_new = theta_old - alpha * (2/N) * np.transpose(temp)\n",
    "        # checking for convergence\n",
    "        delta_theta = theta_new - theta_old\n",
    "        delta = np.sqrt(np.transpose(delta_theta).dot(delta_theta))\n",
    "        if delta < 0.00001 and iters != num_iters :\n",
    "            print(\"Gradient descent converged at iteration\", iters-num_iters)\n",
    "            break\n",
    "        num_iters = num_iters - 1\n",
    "        theta_old = theta_new\n",
    "        #old_cost = ComputeCost(X,Y,theta_old)\n",
    "        #new_cost = ComputeCost(X,Y,theta_new)\n",
    "        #diff_cost = old_cost - new_cost        \n",
    "    return theta_new\n",
    "\n",
    "# predict the y values using theta and X\n",
    "def predict_GradientDescent(theta, X):\n",
    "    if 'x0' not in X.columns:\n",
    "        x0 = np.ones((X.shape[0], 1), dtype=int)\n",
    "        X.insert(0, \"x0\", x0, True)\n",
    "    X = X.values\n",
    "    Y_pred = X.dot(theta)\n",
    "    return Y_pred"
   ]
  },
  {
   "cell_type": "markdown",
   "metadata": {},
   "source": [
    "## 3b"
   ]
  },
  {
   "cell_type": "code",
   "execution_count": 19,
   "metadata": {},
   "outputs": [],
   "source": [
    "train = scaled_data.copy()\n",
    "test = scaled_data_test.copy()\n",
    "# Y values\n",
    "Y_train = train[[\"price\"]]\n",
    "Y_test = test[[\"price\"]]\n",
    "X_train = train.iloc[:,1:]\n",
    "X_test = test.iloc[:,1:]"
   ]
  },
  {
   "cell_type": "code",
   "execution_count": 20,
   "metadata": {},
   "outputs": [
    {
     "name": "stdout",
     "output_type": "stream",
     "text": [
      "theta when alpha = 0.01 and num_iters = 10:\n",
      " [[ 8.24229573e-17]\n",
      " [ 3.51546174e-02]\n",
      " [ 5.97764565e-02]\n",
      " [ 9.46499119e-02]\n",
      " [ 1.58577098e-02]\n",
      " [ 2.80724205e-02]\n",
      " [ 5.14216548e-02]\n",
      " [ 6.74806965e-02]\n",
      " [ 1.46048174e-02]\n",
      " [ 8.81429767e-02]\n",
      " [ 7.58100530e-02]\n",
      " [ 5.35522376e-02]\n",
      " [-1.19508461e-02]\n",
      " [ 2.46116923e-02]\n",
      " [ 6.15128542e-02]\n",
      " [-4.24986932e-03]\n",
      " [ 8.66260205e-02]\n",
      " [ 1.73904498e-02]]\n",
      "\n",
      "\n",
      "MSE for training data using Gradient descent when alpha = 0.01 and num_iters = 10: 0.4769826562643797\n",
      "MSE for testing data using Gradient descent when alpha = 0.01 and num_iters = 10: 0.7899805878552555\n",
      "\n",
      "\n",
      "theta when alpha = 0.01 and num_iters = 50:\n",
      " [[ 6.05232531e-16]\n",
      " [ 1.76980518e-02]\n",
      " [ 7.02037279e-02]\n",
      " [ 1.61104777e-01]\n",
      " [ 1.07199113e-02]\n",
      " [ 3.27773917e-02]\n",
      " [ 1.35936441e-01]\n",
      " [ 1.46319888e-01]\n",
      " [ 4.29116775e-02]\n",
      " [ 1.66822006e-01]\n",
      " [ 1.25277756e-01]\n",
      " [ 9.77393699e-02]\n",
      " [-9.43446724e-02]\n",
      " [ 6.27487154e-02]\n",
      " [ 1.77221329e-01]\n",
      " [-3.88336062e-02]\n",
      " [ 1.51099990e-01]\n",
      " [ 7.90555822e-03]]\n",
      "\n",
      "\n",
      "MSE for training data using Gradient descent when alpha = 0.01 and num_iters = 50: 0.2935883463907345\n",
      "MSE for testing data using Gradient descent when alpha = 0.01 and num_iters = 50: 0.5343327522759017\n",
      "\n",
      "\n",
      "theta when alpha = 0.01 and num_iters = 100:\n",
      " [[ 1.23490662e-15]\n",
      " [-1.07772411e-02]\n",
      " [ 5.67070436e-02]\n",
      " [ 1.67851095e-01]\n",
      " [ 7.93841518e-03]\n",
      " [ 3.07915991e-02]\n",
      " [ 1.65358934e-01]\n",
      " [ 1.54682331e-01]\n",
      " [ 4.72356963e-02]\n",
      " [ 1.95563835e-01]\n",
      " [ 1.37140433e-01]\n",
      " [ 9.02383856e-02]\n",
      " [-1.35234073e-01]\n",
      " [ 6.71310263e-02]\n",
      " [ 2.21279091e-01]\n",
      " [-3.74686822e-02]\n",
      " [ 1.61148092e-01]\n",
      " [-3.15262960e-03]]\n",
      "\n",
      "\n",
      "MSE for training data using Gradient descent when alpha = 0.01 and num_iters = 100: 0.27842422313332665\n",
      "MSE for testing data using Gradient descent when alpha = 0.01 and num_iters = 100: 0.5124065597546549\n",
      "\n",
      "\n",
      "theta when alpha = 0.03 and num_iters = 10:\n",
      " [[ 3.59918761e-16]\n",
      " [ 3.44783187e-02]\n",
      " [ 7.77279035e-02]\n",
      " [ 1.51030380e-01]\n",
      " [ 1.49096249e-02]\n",
      " [ 3.45824114e-02]\n",
      " [ 1.09451543e-01]\n",
      " [ 1.28344010e-01]\n",
      " [ 3.53335842e-02]\n",
      " [ 1.47384928e-01]\n",
      " [ 1.16499005e-01]\n",
      " [ 9.32828025e-02]\n",
      " [-6.15572702e-02]\n",
      " [ 5.28254858e-02]\n",
      " [ 1.38219844e-01]\n",
      " [-2.88618577e-02]\n",
      " [ 1.39434856e-01]\n",
      " [ 1.51205380e-02]]\n",
      "\n",
      "\n",
      "MSE for training data using Gradient descent when alpha = 0.03 and num_iters = 10: 0.32025061817365497\n",
      "MSE for testing data using Gradient descent when alpha = 0.03 and num_iters = 10: 0.5706630290510314\n",
      "\n",
      "\n",
      "theta when alpha = 0.03 and num_iters = 50:\n",
      " [[ 1.81494153e-15]\n",
      " [-2.42677316e-02]\n",
      " [ 5.09297569e-02]\n",
      " [ 1.69308284e-01]\n",
      " [ 8.93562133e-03]\n",
      " [ 2.85160307e-02]\n",
      " [ 1.75952382e-01]\n",
      " [ 1.50939455e-01]\n",
      " [ 4.68466787e-02]\n",
      " [ 2.13358145e-01]\n",
      " [ 1.42588380e-01]\n",
      " [ 8.35618907e-02]\n",
      " [-1.54222591e-01]\n",
      " [ 6.42322034e-02]\n",
      " [ 2.34214776e-01]\n",
      " [-2.88323918e-02]\n",
      " [ 1.62387196e-01]\n",
      " [-1.01317941e-02]]\n",
      "\n",
      "\n",
      "MSE for training data using Gradient descent when alpha = 0.03 and num_iters = 50: 0.27560896108344324\n",
      "MSE for testing data using Gradient descent when alpha = 0.03 and num_iters = 50: 0.5074745831005474\n",
      "\n",
      "\n",
      "theta when alpha = 0.03 and num_iters = 100:\n",
      " [[ 2.66659361e-15]\n",
      " [-3.47525840e-02]\n",
      " [ 4.93272743e-02]\n",
      " [ 1.69715918e-01]\n",
      " [ 1.56037395e-02]\n",
      " [ 2.41618518e-02]\n",
      " [ 1.84600950e-01]\n",
      " [ 1.43066441e-01]\n",
      " [ 4.33028607e-02]\n",
      " [ 2.41936788e-01]\n",
      " [ 1.45193915e-01]\n",
      " [ 7.97991240e-02]\n",
      " [-1.79016692e-01]\n",
      " [ 5.72099614e-02]\n",
      " [ 2.35964039e-01]\n",
      " [-1.42836817e-02]\n",
      " [ 1.54438690e-01]\n",
      " [-2.21623928e-02]]\n",
      "\n",
      "\n",
      "MSE for training data using Gradient descent when alpha = 0.03 and num_iters = 100: 0.27395671526270826\n",
      "MSE for testing data using Gradient descent when alpha = 0.03 and num_iters = 100: 0.5030789048604056\n",
      "\n",
      "\n",
      "theta when alpha = 0.1 and num_iters = 10:\n",
      " [[ 1.24420474e-15]\n",
      " [-1.36910568e-02]\n",
      " [ 5.52088472e-02]\n",
      " [ 1.68353541e-01]\n",
      " [ 7.45623778e-03]\n",
      " [ 3.10991810e-02]\n",
      " [ 1.68132153e-01]\n",
      " [ 1.55868304e-01]\n",
      " [ 4.76371951e-02]\n",
      " [ 1.97351136e-01]\n",
      " [ 1.38347012e-01]\n",
      " [ 8.91136198e-02]\n",
      " [-1.38420055e-01]\n",
      " [ 6.78915154e-02]\n",
      " [ 2.26265130e-01]\n",
      " [-3.78793254e-02]\n",
      " [ 1.62485721e-01]\n",
      " [-3.72317254e-03]]\n",
      "\n",
      "\n",
      "MSE for training data using Gradient descent when alpha = 0.1 and num_iters = 10: 0.2777784544544066\n",
      "MSE for testing data using Gradient descent when alpha = 0.1 and num_iters = 10: 0.5113613440792656\n",
      "\n",
      "\n",
      "theta when alpha = 0.1 and num_iters = 50:\n",
      " [[ 2.94542168e-15]\n",
      " [-3.67123703e-02]\n",
      " [ 5.19311794e-02]\n",
      " [ 1.68537088e-01]\n",
      " [ 2.31442397e-02]\n",
      " [ 2.35943958e-02]\n",
      " [ 1.86936278e-01]\n",
      " [ 1.41325823e-01]\n",
      " [ 4.01410188e-02]\n",
      " [ 2.59030114e-01]\n",
      " [ 1.43764344e-01]\n",
      " [ 7.99826561e-02]\n",
      " [-1.91538284e-01]\n",
      " [ 5.33598604e-02]\n",
      " [ 2.32971158e-01]\n",
      " [-7.57832894e-03]\n",
      " [ 1.44321559e-01]\n",
      " [-2.98970970e-02]]\n",
      "\n",
      "\n",
      "MSE for training data using Gradient descent when alpha = 0.1 and num_iters = 50: 0.27356291763134366\n",
      "MSE for testing data using Gradient descent when alpha = 0.1 and num_iters = 50: 0.5013370393181915\n",
      "\n",
      "\n",
      "theta when alpha = 0.1 and num_iters = 100:\n",
      " [[ 3.07953663e-15]\n",
      " [-3.68947451e-02]\n",
      " [ 5.42975971e-02]\n",
      " [ 1.67304747e-01]\n",
      " [ 3.02686805e-02]\n",
      " [ 2.37564001e-02]\n",
      " [ 1.87723494e-01]\n",
      " [ 1.41848046e-01]\n",
      " [ 3.83994393e-02]\n",
      " [ 2.70127986e-01]\n",
      " [ 1.42361073e-01]\n",
      " [ 8.00147289e-02]\n",
      " [-1.98462669e-01]\n",
      " [ 5.11892697e-02]\n",
      " [ 2.31198797e-01]\n",
      " [-3.65404153e-03]\n",
      " [ 1.35919784e-01]\n",
      " [-3.63918536e-02]]\n",
      "\n",
      "\n",
      "MSE for training data using Gradient descent when alpha = 0.1 and num_iters = 100: 0.27346886118648905\n",
      "MSE for testing data using Gradient descent when alpha = 0.1 and num_iters = 100: 0.5006111869631489\n",
      "\n",
      "\n"
     ]
    }
   ],
   "source": [
    "alpha = [0.01, 0.03, 0.1]\n",
    "num_iters = [10, 50, 100]\n",
    "\n",
    "for i in alpha:\n",
    "    for j in num_iters :\n",
    "        theta = gradient_descent(X_train, Y_train, i, j)\n",
    "        print('theta when alpha = ' + str(i) + ' and num_iters = ' + str(j) + ':\\n', theta)\n",
    "        print(\"\\n\")\n",
    "        Y_pred_train = predict_GradientDescent(theta, X_train)\n",
    "        Y_pred_test = predict_GradientDescent(theta, X_test)\n",
    "        print('MSE for training data using Gradient descent when alpha = ' + str(i) +\n",
    "              ' and num_iters = ' + str(j) + ':', metrics.mean_squared_error(Y_train, Y_pred_train))\n",
    "        print('MSE for testing data using Gradient descent when alpha = ' + str(i) +\n",
    "              ' and num_iters = '+ str(j) + ':', metrics.mean_squared_error(Y_test, Y_pred_test))\n",
    "        print(\"\\n\")\n",
    "        "
   ]
  },
  {
   "cell_type": "markdown",
   "metadata": {},
   "source": [
    "## 3c"
   ]
  },
  {
   "cell_type": "markdown",
   "metadata": {},
   "source": [
    "The MSE value for the training and the testing data using Gradient Descent for Alpha = 0.1 and iterations = 100 with theta being initialized with all zeroes; is almost similar to those obtained with the package. The more the number of iterations, the closer the MSE is to the one obtained using the package. We can observe that even with smaller learning rate, the algorithm converges if provided with sufficient number of iterations. The MSE value is small for a bigger learning rate compared to the small learning rates for the same number of iterations. \n",
    "The objective decreases for the selected learning rates with each iterations however if the learning rate is selected as 0.2 the cost increases with each iteration and hence cannot be selected as an alpha value for gradient descent.\n",
    "Using the above implementation, the algorithm is converging with the number of iterations reaching the maximum number of iterations. \n",
    "\n",
    "\\pagebreak"
   ]
  },
  {
   "cell_type": "markdown",
   "metadata": {},
   "source": [
    "## 3d"
   ]
  },
  {
   "cell_type": "code",
   "execution_count": 21,
   "metadata": {},
   "outputs": [],
   "source": [
    "# Compute Cost function is implemented to check if the cost is decreasing with iterations\n",
    "def ComputeCost(X,Y,theta):\n",
    "    N = Y.shape[0]\n",
    "    temp = X.dot(theta) - Y\n",
    "    cost = (1/N)*np.transpose(temp).dot(temp)\n",
    "    return cost\n",
    "\n",
    "# Method to compute the theta values using gradient descent\n",
    "def gradient_descent_line_search(X, Y, alpha_max, step, e, T):\n",
    "    if 'x0' not in X.columns:\n",
    "        x0 = np.ones((X.shape[0], 1), dtype=int)\n",
    "        X.insert(0, \"x0\", x0, True)\n",
    "    # d is the number of features    \n",
    "    d = X_train.shape[1]\n",
    "    # Initializing theta with zeros\n",
    "    theta = np.zeros((d,1))\n",
    "    \n",
    "    X=X.values\n",
    "    Y=Y.values\n",
    "    N = Y.shape[0]\n",
    "    delta = 1\n",
    "    alpha = alpha_max     \n",
    "    backtrack = T\n",
    "    while(delta > 0.0001):\n",
    "        T = backtrack\n",
    "        theta_try = theta\n",
    "        while(T>0):\n",
    "            temp = np.transpose(X.dot(theta) - Y).dot(X)\n",
    "            theta_try = theta - alpha * (2/N) * np.transpose(temp)\n",
    "            if abs((ComputeCost(X,Y, theta) - ComputeCost(X,Y, theta_try))) > e:\n",
    "                theta = theta_try\n",
    "                #break\n",
    "            else:    \n",
    "                alpha = step * alpha\n",
    "            T = T-1\n",
    "        delta_theta = theta_try - theta    \n",
    "        delta = np.sqrt(np.transpose(delta_theta).dot(delta_theta))   \n",
    "    return theta  \n",
    "\n",
    "\n",
    "# predict the y values using theta and X\n",
    "def predict_GradientDescent(theta, X):\n",
    "    if 'x0' not in X.columns:\n",
    "        x0 = np.ones((X.shape[0], 1), dtype=int)\n",
    "        X.insert(0, \"x0\", x0, True)\n",
    "    X = X.values\n",
    "    Y_pred = X.dot(theta)\n",
    "    return Y_pred"
   ]
  },
  {
   "cell_type": "code",
   "execution_count": 22,
   "metadata": {},
   "outputs": [],
   "source": [
    "train = scaled_data.copy()\n",
    "test = scaled_data_test.copy()\n",
    "# Y values\n",
    "Y_train = train[[\"price\"]]\n",
    "Y_test = test[[\"price\"]]\n",
    "X_train = train.iloc[:,1:]\n",
    "X_test = test.iloc[:,1:]"
   ]
  },
  {
   "cell_type": "code",
   "execution_count": 23,
   "metadata": {
    "scrolled": true
   },
   "outputs": [
    {
     "name": "stdout",
     "output_type": "stream",
     "text": [
      "MSE for training data using Gradient descent when alpha = 0.01 and backtrack = 10: 0.4769826562643797\n",
      "MSE for testing data using Gradient descent when alpha = 0.01 and backtrack = 10: 0.7899805878552555\n",
      "\n",
      "\n",
      "MSE for training data using Gradient descent when alpha = 0.01 and backtrack = 50: 0.2935883463907345\n",
      "MSE for testing data using Gradient descent when alpha = 0.01 and backtrack = 50: 0.5343327522759017\n",
      "\n",
      "\n",
      "MSE for training data using Gradient descent when alpha = 0.01 and backtrack = 100: 0.27842422313332665\n",
      "MSE for testing data using Gradient descent when alpha = 0.01 and backtrack = 100: 0.5124065597546549\n",
      "\n",
      "\n",
      "MSE for training data using Gradient descent when alpha = 0.03 and backtrack = 10: 0.32025061817365497\n",
      "MSE for testing data using Gradient descent when alpha = 0.03 and backtrack = 10: 0.5706630290510314\n",
      "\n",
      "\n",
      "MSE for training data using Gradient descent when alpha = 0.03 and backtrack = 50: 0.27588674681517505\n",
      "MSE for testing data using Gradient descent when alpha = 0.03 and backtrack = 50: 0.5080309707498859\n",
      "\n",
      "\n",
      "MSE for training data using Gradient descent when alpha = 0.03 and backtrack = 100: 0.27588674681517505\n",
      "MSE for testing data using Gradient descent when alpha = 0.03 and backtrack = 100: 0.5080309707498859\n",
      "\n",
      "\n",
      "MSE for training data using Gradient descent when alpha = 0.1 and backtrack = 10: 0.2777784544544066\n",
      "MSE for testing data using Gradient descent when alpha = 0.1 and backtrack = 10: 0.5113613440792656\n",
      "\n",
      "\n",
      "MSE for training data using Gradient descent when alpha = 0.1 and backtrack = 50: 0.2745099563397425\n",
      "MSE for testing data using Gradient descent when alpha = 0.1 and backtrack = 50: 0.5048703004874806\n",
      "\n",
      "\n",
      "MSE for training data using Gradient descent when alpha = 0.1 and backtrack = 100: 0.2745099563397425\n",
      "MSE for testing data using Gradient descent when alpha = 0.1 and backtrack = 100: 0.5048703004874806\n",
      "\n",
      "\n"
     ]
    }
   ],
   "source": [
    "alpha = [0.01, 0.03, 0.1]\n",
    "backtrack = [10, 50, 100]\n",
    "\n",
    "for i in alpha:\n",
    "    for j in backtrack :\n",
    "        theta = gradient_descent_line_search(X_train, Y_train, i, 0.5, 0.0001, j)\n",
    "        #print('theta when alpha = ' + str(i) + ' and num_iters = ' + str(j) + ':\\n', theta)\n",
    "        #print(\"\\n\")\n",
    "        Y_pred_train = predict_GradientDescent(theta, X_train)\n",
    "        Y_pred_test = predict_GradientDescent(theta, X_test)\n",
    "        print('MSE for training data using Gradient descent when alpha = ' + str(i) +\n",
    "              ' and backtrack = ' + str(j) + ':', metrics.mean_squared_error(Y_train, Y_pred_train))\n",
    "        print('MSE for testing data using Gradient descent when alpha = ' + str(i) +\n",
    "              ' and backtrack = '+ str(j) + ':', metrics.mean_squared_error(Y_test, Y_pred_test))\n",
    "        print(\"\\n\")"
   ]
  },
  {
   "cell_type": "markdown",
   "metadata": {},
   "source": [
    "The values of MSE in the training and testing data using gradient descent using line search is almost similar to those obtained using Gradient descent. "
   ]
  },
  {
   "cell_type": "markdown",
   "metadata": {},
   "source": [
    "# Problem 4"
   ]
  },
  {
   "cell_type": "markdown",
   "metadata": {},
   "source": [
    "\\pagebreak"
   ]
  },
  {
   "cell_type": "markdown",
   "metadata": {},
   "source": [
    "## 4b"
   ]
  },
  {
   "cell_type": "code",
   "execution_count": 24,
   "metadata": {},
   "outputs": [],
   "source": [
    "def ClosedForm_RidgeRegression(X, Y, lambda_r):\n",
    "    if 'x0' not in X.columns:\n",
    "        x0 = np.ones((X.shape[0], 1), dtype=int)\n",
    "        X.insert(0, \"x0\", x0, True)\n",
    "    X=X.values\n",
    "    Y=Y.values\n",
    "    ## calculating the closed form solution to get parameters theta\n",
    "    X_transpose = np.transpose(X)\n",
    "    # calculating the dot product\n",
    "    X_transpose_dotp_x = X_transpose.dot(X)\n",
    "    \n",
    "    # Matrix for Regularization term\n",
    "    L = np.identity(X.shape[1])\n",
    "    #No regularization/penalizing on the theta0\n",
    "    L[0][0]=0\n",
    "    # Calculating the inverse\n",
    "    temp_1 = np.linalg.pinv(X_transpose_dotp_x + (lambda_r * L))\n",
    "\n",
    "    ##Calculating the second half i.e. (X transpose Y)\n",
    "    temp_2 = X_transpose.dot(Y)\n",
    "\n",
    "    ##Calculating theta\n",
    "    theta = temp_1.dot(temp_2)\n",
    "    return(theta)\n",
    "\n",
    "def predict(theta, X):\n",
    "    if 'x0' not in X.columns:\n",
    "        x0 = np.ones((X.shape[0], 1), dtype=int)\n",
    "        X.insert(0, \"x0\", x0, True)\n",
    "    Y_pred = X.dot(theta)\n",
    "    return Y_pred"
   ]
  },
  {
   "cell_type": "code",
   "execution_count": 25,
   "metadata": {},
   "outputs": [],
   "source": [
    "#Initializing data\n",
    "train = scaled_data.copy()\n",
    "test = scaled_data_test.copy()\n",
    "# Y values\n",
    "Y_train = train[[\"price\"]]\n",
    "Y_test = test[[\"price\"]]\n",
    "X_train = train.iloc[:,1:]\n",
    "X_test = test.iloc[:,1:]"
   ]
  },
  {
   "cell_type": "code",
   "execution_count": 26,
   "metadata": {},
   "outputs": [
    {
     "name": "stdout",
     "output_type": "stream",
     "text": [
      "Mean Squared Error for training data using closed form solution with lambda= 1:  0.2734668788542625\n",
      "Mean Squared Error for training data using closed form solution with lambda= 2:  0.27346780421401556\n",
      "Mean Squared Error for training data using closed form solution with lambda= 3:  0.2734693341886705\n",
      "Mean Squared Error for training data using closed form solution with lambda= 4:  0.2734714590206986\n",
      "Mean Squared Error for training data using closed form solution with lambda= 5:  0.2734741692062795\n",
      "Mean Squared Error for training data using closed form solution with lambda= 6:  0.27347745548689273\n",
      "Mean Squared Error for training data using closed form solution with lambda= 7:  0.2734813088412359\n",
      "Mean Squared Error for training data using closed form solution with lambda= 8:  0.2734857204774564\n",
      "Mean Squared Error for training data using closed form solution with lambda= 9:  0.2734906818256808\n",
      "Mean Squared Error for training data using closed form solution with lambda= 10:  0.2734961845308304\n",
      "Mean Squared Error for training data using closed form solution with lambda= 11:  0.2735022204457091\n",
      "Mean Squared Error for training data using closed form solution with lambda= 12:  0.2735087816243536\n",
      "Mean Squared Error for training data using closed form solution with lambda= 13:  0.27351586031563274\n",
      "Mean Squared Error for training data using closed form solution with lambda= 14:  0.2735234489570864\n",
      "Mean Squared Error for training data using closed form solution with lambda= 15:  0.27353154016899406\n",
      "Mean Squared Error for training data using closed form solution with lambda= 16:  0.27354012674866146\n",
      "Mean Squared Error for training data using closed form solution with lambda= 17:  0.27354920166491864\n",
      "Mean Squared Error for training data using closed form solution with lambda= 18:  0.2735587580528187\n",
      "Mean Squared Error for training data using closed form solution with lambda= 19:  0.27356878920852923\n",
      "Mean Squared Error for training data using closed form solution with lambda= 20:  0.27357928858440955\n",
      "Mean Squared Error for training data using closed form solution with lambda= 21:  0.27359024978426405\n",
      "Mean Squared Error for training data using closed form solution with lambda= 22:  0.2736016665587666\n",
      "Mean Squared Error for training data using closed form solution with lambda= 23:  0.27361353280104744\n",
      "Mean Squared Error for training data using closed form solution with lambda= 24:  0.2736258425424361\n",
      "Mean Squared Error for training data using closed form solution with lambda= 25:  0.27363858994835594\n",
      "Mean Squared Error for training data using closed form solution with lambda= 26:  0.2736517693143609\n",
      "Mean Squared Error for training data using closed form solution with lambda= 27:  0.2736653750623118\n",
      "Mean Squared Error for training data using closed form solution with lambda= 28:  0.27367940173668504\n",
      "Mean Squared Error for training data using closed form solution with lambda= 29:  0.2736938440010089\n",
      "Mean Squared Error for training data using closed form solution with lambda= 30:  0.27370869663442243\n",
      "Mean Squared Error for training data using closed form solution with lambda= 31:  0.2737239545283518\n",
      "Mean Squared Error for training data using closed form solution with lambda= 32:  0.27373961268330016\n",
      "Mean Squared Error for training data using closed form solution with lambda= 33:  0.2737556662057459\n",
      "Mean Squared Error for training data using closed form solution with lambda= 34:  0.2737721103051456\n",
      "Mean Squared Error for training data using closed form solution with lambda= 35:  0.2737889402910377\n",
      "Mean Squared Error for training data using closed form solution with lambda= 36:  0.2738061515702425\n",
      "Mean Squared Error for training data using closed form solution with lambda= 37:  0.2738237396441549\n",
      "Mean Squared Error for training data using closed form solution with lambda= 38:  0.27384170010612796\n",
      "Mean Squared Error for training data using closed form solution with lambda= 39:  0.2738600286389406\n",
      "Mean Squared Error for training data using closed form solution with lambda= 40:  0.2738787210123495\n",
      "Mean Squared Error for training data using closed form solution with lambda= 41:  0.273897773080721\n",
      "Mean Squared Error for training data using closed form solution with lambda= 42:  0.2739171807807383\n",
      "Mean Squared Error for training data using closed form solution with lambda= 43:  0.273936940129184\n",
      "Mean Squared Error for training data using closed form solution with lambda= 44:  0.27395704722079367\n",
      "Mean Squared Error for training data using closed form solution with lambda= 45:  0.27397749822617773\n",
      "Mean Squared Error for training data using closed form solution with lambda= 46:  0.2739982893898091\n",
      "Mean Squared Error for training data using closed form solution with lambda= 47:  0.2740194170280754\n",
      "Mean Squared Error for training data using closed form solution with lambda= 48:  0.27404087752739237\n",
      "Mean Squared Error for training data using closed form solution with lambda= 49:  0.27406266734237567\n",
      "Mean Squared Error for training data using closed form solution with lambda= 50:  0.27408478299407113\n",
      "Mean Squared Error for training data using closed form solution with lambda= 51:  0.2741072210682389\n",
      "Mean Squared Error for training data using closed form solution with lambda= 52:  0.27412997821369106\n",
      "Mean Squared Error for training data using closed form solution with lambda= 53:  0.27415305114068067\n",
      "Mean Squared Error for training data using closed form solution with lambda= 54:  0.27417643661934016\n",
      "Mean Squared Error for training data using closed form solution with lambda= 55:  0.2742001314781671\n",
      "Mean Squared Error for training data using closed form solution with lambda= 56:  0.2742241326025562\n",
      "Mean Squared Error for training data using closed form solution with lambda= 57:  0.27424843693337575\n",
      "Mean Squared Error for training data using closed form solution with lambda= 58:  0.27427304146558695\n",
      "Mean Squared Error for training data using closed form solution with lambda= 59:  0.2742979432469046\n",
      "Mean Squared Error for training data using closed form solution with lambda= 60:  0.2743231393764978\n",
      "Mean Squared Error for training data using closed form solution with lambda= 61:  0.2743486270037289\n",
      "Mean Squared Error for training data using closed form solution with lambda= 62:  0.2743744033269306\n",
      "Mean Squared Error for training data using closed form solution with lambda= 63:  0.2744004655922183\n",
      "Mean Squared Error for training data using closed form solution with lambda= 64:  0.2744268110923376\n",
      "Mean Squared Error for training data using closed form solution with lambda= 65:  0.2744534371655453\n",
      "Mean Squared Error for training data using closed form solution with lambda= 66:  0.27448034119452336\n",
      "Mean Squared Error for training data using closed form solution with lambda= 67:  0.27450752060532385\n",
      "Mean Squared Error for training data using closed form solution with lambda= 68:  0.274534972866344\n",
      "Mean Squared Error for training data using closed form solution with lambda= 69:  0.27456269548733175\n",
      "Mean Squared Error for training data using closed form solution with lambda= 70:  0.27459068601841896\n",
      "Mean Squared Error for training data using closed form solution with lambda= 71:  0.2746189420491818\n",
      "Mean Squared Error for training data using closed form solution with lambda= 72:  0.2746474612077288\n",
      "Mean Squared Error for training data using closed form solution with lambda= 73:  0.2746762411598135\n",
      "Mean Squared Error for training data using closed form solution with lambda= 74:  0.2747052796079727\n",
      "Mean Squared Error for training data using closed form solution with lambda= 75:  0.27473457429068865\n",
      "Mean Squared Error for training data using closed form solution with lambda= 76:  0.27476412298157504\n",
      "Mean Squared Error for training data using closed form solution with lambda= 77:  0.27479392348858406\n",
      "Mean Squared Error for training data using closed form solution with lambda= 78:  0.27482397365323746\n",
      "Mean Squared Error for training data using closed form solution with lambda= 79:  0.274854271349877\n",
      "Mean Squared Error for training data using closed form solution with lambda= 80:  0.2748848144849361\n",
      "Mean Squared Error for training data using closed form solution with lambda= 81:  0.2749156009962318\n",
      "Mean Squared Error for training data using closed form solution with lambda= 82:  0.274946628852275\n",
      "Mean Squared Error for training data using closed form solution with lambda= 83:  0.27497789605160017\n",
      "Mean Squared Error for training data using closed form solution with lambda= 84:  0.2750094006221126\n",
      "Mean Squared Error for training data using closed form solution with lambda= 85:  0.27504114062045326\n"
     ]
    },
    {
     "name": "stdout",
     "output_type": "stream",
     "text": [
      "Mean Squared Error for training data using closed form solution with lambda= 86:  0.27507311413138086\n",
      "Mean Squared Error for training data using closed form solution with lambda= 87:  0.27510531926716997\n",
      "Mean Squared Error for training data using closed form solution with lambda= 88:  0.27513775416702535\n",
      "Mean Squared Error for training data using closed form solution with lambda= 89:  0.27517041699651146\n",
      "Mean Squared Error for training data using closed form solution with lambda= 90:  0.27520330594699766\n",
      "Mean Squared Error for training data using closed form solution with lambda= 91:  0.27523641923511644\n",
      "Mean Squared Error for training data using closed form solution with lambda= 92:  0.27526975510223745\n",
      "Mean Squared Error for training data using closed form solution with lambda= 93:  0.2753033118139544\n",
      "Mean Squared Error for training data using closed form solution with lambda= 94:  0.2753370876595843\n",
      "Mean Squared Error for training data using closed form solution with lambda= 95:  0.27537108095168217\n",
      "Mean Squared Error for training data using closed form solution with lambda= 96:  0.27540529002556463\n",
      "Mean Squared Error for training data using closed form solution with lambda= 97:  0.27543971323884886\n",
      "Mean Squared Error for training data using closed form solution with lambda= 98:  0.27547434897100154\n",
      "Mean Squared Error for training data using closed form solution with lambda= 99:  0.27550919562289927\n",
      "Mean Squared Error for training data using closed form solution with lambda= 100:  0.2755442516164008\n",
      "\n",
      "\n",
      "Minimum MSE value for the training data =  0.2734668788542625 obtained for lambda = 1\n"
     ]
    },
    {
     "data": {
      "image/png": "[encoded data removed]",
      "text/plain": [
       "<Figure size 432x288 with 1 Axes>"
      ]
     },
     "metadata": {
      "needs_background": "light"
     },
     "output_type": "display_data"
    }
   ],
   "source": [
    "#lambda_list = [0,1,2,5,10,15,20,30,50,75,100,500,1000,2000,3000,5000]\n",
    "#lambda_list = [0,0.2,0.3,0.4,0.5,0.6,0.7,0.8,0.9,1]\n",
    "lambda_list = []\n",
    "MSE_train = []\n",
    "#for i in np.arange(1,100,1):\n",
    "for i in range(1,101,1):\n",
    "#for i in lambda_list:\n",
    "    lambda_list.append(i)\n",
    "    theta = ClosedForm_RidgeRegression(X_train,Y_train,i)\n",
    "    #print(theta)\n",
    "    Y_pred = predict(theta,X_train)\n",
    "    print('Mean Squared Error for training data using closed form solution with lambda= '+ str(i) + ': ', \n",
    "          metrics.mean_squared_error(Y_train, Y_pred))\n",
    "    #print(\"\\n\")\n",
    "    MSE_train.append(metrics.mean_squared_error(Y_train, Y_pred))\n",
    "    \n",
    "min_lambda = lambda_list[MSE_train.index(min(MSE_train))]\n",
    "print(\"\\n\")\n",
    "print(\"Minimum MSE value for the training data = \", min(MSE_train), \"obtained for lambda =\", min_lambda)    \n",
    "plt.plot(lambda_list,MSE_train)\n",
    "plt.title(\"Lambda v/s MSE on the training data \")\n",
    "plt.xlabel(\"Lambda\")\n",
    "plt.ylabel(\"MSE\")\n",
    "plt.show()"
   ]
  },
  {
   "cell_type": "code",
   "execution_count": 109,
   "metadata": {},
   "outputs": [
    {
     "name": "stdout",
     "output_type": "stream",
     "text": [
      "Mean Squared Error for testing data using closed form solution with lambda= 0:  0.5005173639170145\n",
      "Mean Squared Error for testing data using closed form solution with lambda= 1e-15:  0.5005173639170145\n",
      "Mean Squared Error for testing data using closed form solution with lambda= 1e-11:  0.4999094328460266\n",
      "Mean Squared Error for testing data using closed form solution with lambda= 1:  0.5005925887198549\n",
      "Mean Squared Error for testing data using closed form solution with lambda= 10:  0.5012912917578864\n",
      "Mean Squared Error for testing data using closed form solution with lambda= 50:  0.5047192049914125\n",
      "Mean Squared Error for testing data using closed form solution with lambda= 100:  0.5094026518057427\n",
      "\n",
      "\n",
      "Minimum MSE value for the testing data =  0.499909 obtained for lambda = 1e-11\n"
     ]
    }
   ],
   "source": [
    "import re\n",
    "MSE_test = []\n",
    "lambda_list = []\n",
    "for i in [1e-15,1e-11,1,10,50,100]:\n",
    "#for i in np.arange(1e-15,1e-7,1e-15):\n",
    "#for i in range(1,3000,1):\n",
    "    lambda_list.append(i)\n",
    "    theta = ClosedForm_RidgeRegression(X_train,Y_train,i)\n",
    "    Y_pred = predict(theta,X_test)\n",
    "    print('Mean Squared Error for testing data using closed form solution with lambda= '+ str(i) + ': ', \n",
    "          metrics.mean_squared_error(Y_test, Y_pred))\n",
    "    MSE_3dig = re.match(r'\\d+.\\d{6}',str((metrics.mean_squared_error(Y_test, Y_pred)))).group(0)\n",
    "    MSE_test.append(float(MSE_3dig))\n",
    "print(\"\\n\")    \n",
    "min_lambda = lambda_list[MSE_test.index(min(MSE_test))]    \n",
    "print(\"Minimum MSE value for the testing data = \", min(MSE_test), \"obtained for lambda =\", min_lambda)\n",
    "\n",
    "\n",
    "     "
   ]
  },
  {
   "cell_type": "code",
   "execution_count": 110,
   "metadata": {},
   "outputs": [
    {
     "name": "stderr",
     "output_type": "stream",
     "text": [
      "d:\\softwares\\python3.7.4\\lib\\site-packages\\ipykernel_launcher.py:15: RuntimeWarning: divide by zero encountered in log\n",
      "  from ipykernel import kernelapp as app\n"
     ]
    },
    {
     "data": {
      "image/png": "[encoded data removed]",
      "text/plain": [
       "<Figure size 432x288 with 1 Axes>"
      ]
     },
     "metadata": {
      "needs_background": "light"
     },
     "output_type": "display_data"
    }
   ],
   "source": [
    "def annot_min(x,y, ax=None):\n",
    "    xmin = x[np.argmin(y)]\n",
    "    ymin = min(y)\n",
    "    text= \"x={:.3f}, y={:.3f}\".format(xmin, ymin)\n",
    "    if not ax:\n",
    "        ax=plt.gca()\n",
    "    bbox_props = dict(boxstyle=\"square,pad=0.3\", fc=\"w\", ec=\"k\", lw=0.72)\n",
    "    arrowprops=dict(arrowstyle=\"->\",connectionstyle=\"angle,angleA=0,angleB=60\")\n",
    "    kw = dict(xycoords='data',textcoords=\"axes fraction\",\n",
    "              arrowprops=arrowprops, bbox=bbox_props, ha=\"right\", va=\"top\")\n",
    "    ax.annotate(text, xy=(xmin, ymin), xytext=(0.50,0.50), **kw)\n",
    "\n",
    "arr = []\n",
    "for i in lambda_list:\n",
    "    arr.append(np.log(i))\n",
    "plt.plot(arr, MSE_test) \n",
    "#annot_min(lambda_list, MSE_test)\n",
    "plt.title(\"Lambda v/s MSE on the testing data\")\n",
    "plt.xlabel(\"Lambda\")\n",
    "plt.ylabel(\"MSE\")\n",
    "plt.show()   "
   ]
  },
  {
   "cell_type": "markdown",
   "metadata": {},
   "source": [
    "The MSE value for the training data set obtained in the Ridge regression is almost similar to the value obtained in the Linear Regression. \n",
    "The MSE value for the testing data set obtained in the Ridge regression is slightly less compared to those obtained in the Linear Regression. \n",
    "\n",
    "\\pagebreak"
   ]
  },
  {
   "cell_type": "markdown",
   "metadata": {},
   "source": [
    "# Problem 6"
   ]
  },
  {
   "cell_type": "markdown",
   "metadata": {},
   "source": [
    "## 6a"
   ]
  },
  {
   "cell_type": "code",
   "execution_count": 29,
   "metadata": {},
   "outputs": [
    {
     "data": {
      "image/png": "[encoded data removed]",
      "text/plain": [
       "<Figure size 432x288 with 1 Axes>"
      ]
     },
     "metadata": {
      "needs_background": "light"
     },
     "output_type": "display_data"
    }
   ],
   "source": [
    "Laplace = []\n",
    "Normal = []\n",
    "x_val = np.arange(-5,5,0.1)\n",
    "b = 1\n",
    "for x in x_val:\n",
    "        Laplace.append((1/2*b) * math.exp(-abs(x)/b))\n",
    "        Normal.append((1/(b * np.sqrt(2*np.pi)) * np.exp(-(x)**2/(2 * b**2))))\n",
    "plt.plot(x_val,Laplace, label = \"Laplace Distribution\")\n",
    "plt.plot(x_val,Normal, label = \"Normal Distribution\")\n",
    "plt.legend()\n",
    "plt.title(\"Probability Density Function, for b = 1\")\n",
    "plt.show()\n"
   ]
  },
  {
   "cell_type": "code",
   "execution_count": 30,
   "metadata": {},
   "outputs": [
    {
     "data": {
      "image/png": "[encoded data removed]",
      "text/plain": [
       "<Figure size 432x288 with 1 Axes>"
      ]
     },
     "metadata": {
      "needs_background": "light"
     },
     "output_type": "display_data"
    }
   ],
   "source": [
    "Laplace = []\n",
    "Normal = []\n",
    "b = 2\n",
    "for x in x_val:\n",
    "        Laplace.append((1/2*b) * math.exp(-abs(x)/b))\n",
    "        Normal.append((1/(b * np.sqrt(2*np.pi)) * np.exp(-(x)**2/(2 * b**2))))\n",
    "plt.plot(x_val,Laplace, label = \"Laplace Distribution\")\n",
    "plt.plot(x_val,Normal, label = \"Normal Distribution\")\n",
    "plt.legend()\n",
    "plt.title(\"Probability Density Function, for b = 2\")\n",
    "plt.show()"
   ]
  },
  {
   "cell_type": "code",
   "execution_count": 31,
   "metadata": {},
   "outputs": [
    {
     "data": {
      "image/png": "[encoded data removed]",
      "text/plain": [
       "<Figure size 432x288 with 1 Axes>"
      ]
     },
     "metadata": {
      "needs_background": "light"
     },
     "output_type": "display_data"
    }
   ],
   "source": [
    "Laplace = []\n",
    "Normal = []\n",
    "b = 4\n",
    "for x in x_val:\n",
    "        Laplace.append((1/2*b) * math.exp(-abs(x)/b))\n",
    "        Normal.append((1/(b * np.sqrt(2*np.pi)) * np.exp(-(x)**2/(2 * b**2))))\n",
    "plt.plot(x_val,Laplace, label = \"Laplace Distribution\")\n",
    "plt.plot(x_val,Normal, label = \"Normal Distribution\")\n",
    "plt.legend()\n",
    "plt.title(\"Probability Density Function, for b = 4\")\n",
    "plt.show()"
   ]
  },
  {
   "cell_type": "markdown",
   "metadata": {},
   "source": [
    "Normal distribution have very short tails whereas the Laplace distribution have longer tails because the Laplace density is expressed in terms of the absolute difference from the mean.\n"
   ]
  },
  {
   "cell_type": "code",
   "execution_count": null,
   "metadata": {},
   "outputs": [],
   "source": []
  }
 ],
 "metadata": {
  "kernelspec": {
   "display_name": "Python 3",
   "language": "python",
   "name": "python3"
  },
  "language_info": {
   "codemirror_mode": {
    "name": "ipython",
    "version": 3
   },
   "file_extension": ".py",
   "mimetype": "text/x-python",
   "name": "python",
   "nbconvert_exporter": "python",
   "pygments_lexer": "ipython3",
   "version": "3.7.4"
  }
 },
 "nbformat": 4,
 "nbformat_minor": 2
}
